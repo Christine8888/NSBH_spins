{
 "cells": [
  {
   "cell_type": "code",
   "execution_count": 1,
   "metadata": {
    "ExecuteTime": {
     "end_time": "2021-07-22T17:01:59.227719Z",
     "start_time": "2021-07-22T17:01:55.969545Z"
    }
   },
   "outputs": [],
   "source": [
    "import numpy as np\n",
    "import matplotlib.pyplot as plt\n",
    "import scipy.stats as st\n",
    "import math\n",
    "import scipy\n",
    "import emcee\n",
    "import corner\n",
    "import lalsimulation as ls\n",
    "import h5py\n",
    "import snr_calculation as s \n",
    "import populations as p"
   ]
  },
  {
   "cell_type": "code",
   "execution_count": 399,
   "metadata": {
    "ExecuteTime": {
     "end_time": "2021-07-21T21:06:45.654006Z",
     "start_time": "2021-07-21T21:06:45.647270Z"
    }
   },
   "outputs": [],
   "source": [
    "f = h5py.File('./results/spinning_test_run.h5', 'r')\n"
   ]
  },
  {
   "cell_type": "code",
   "execution_count": 90,
   "metadata": {
    "ExecuteTime": {
     "end_time": "2021-07-22T17:01:13.778809Z",
     "start_time": "2021-07-22T17:01:13.442089Z"
    }
   },
   "outputs": [
    {
     "name": "stdout",
     "output_type": "stream",
     "text": [
      "/mnt/c/users/christine/gwcosmology/spin!!\r\n"
     ]
    }
   ],
   "source": [
    "!pwd"
   ]
  },
  {
   "cell_type": "code",
   "execution_count": 10,
   "metadata": {
    "ExecuteTime": {
     "end_time": "2021-07-22T17:02:39.504990Z",
     "start_time": "2021-07-22T17:02:39.395558Z"
    },
    "scrolled": true
   },
   "outputs": [
    {
     "ename": "OSError",
     "evalue": "/spin_results/mTOV_convergence/mTOV_2_run_50_likes.txt not found.",
     "output_type": "error",
     "traceback": [
      "\u001b[0;31m---------------------------------------------------------------------------\u001b[0m",
      "\u001b[0;31mOSError\u001b[0m                                   Traceback (most recent call last)",
      "\u001b[0;32m<ipython-input-10-cd8a1e74480b>\u001b[0m in \u001b[0;36m<module>\u001b[0;34m\u001b[0m\n\u001b[1;32m      1\u001b[0m \u001b[0msamples\u001b[0m \u001b[0;34m=\u001b[0m \u001b[0mnp\u001b[0m\u001b[0;34m.\u001b[0m\u001b[0mgenfromtxt\u001b[0m\u001b[0;34m(\u001b[0m\u001b[0;34m'/mnt/c/users/christine/gwcosmology/spin!!/mTOV_2_run_10.txt'\u001b[0m\u001b[0;34m)\u001b[0m\u001b[0;34m\u001b[0m\u001b[0;34m\u001b[0m\u001b[0m\n\u001b[0;32m----> 2\u001b[0;31m \u001b[0mlikes\u001b[0m \u001b[0;34m=\u001b[0m \u001b[0mnp\u001b[0m\u001b[0;34m.\u001b[0m\u001b[0mgenfromtxt\u001b[0m\u001b[0;34m(\u001b[0m\u001b[0;34m'/spin_results/mTOV_convergence/mTOV_2_run_50_likes.txt'\u001b[0m\u001b[0;34m)\u001b[0m\u001b[0;34m\u001b[0m\u001b[0;34m\u001b[0m\u001b[0m\n\u001b[0m",
      "\u001b[0;32m~/anaconda3/lib/python3.7/site-packages/numpy/lib/npyio.py\u001b[0m in \u001b[0;36mgenfromtxt\u001b[0;34m(fname, dtype, comments, delimiter, skip_header, skip_footer, converters, missing_values, filling_values, usecols, names, excludelist, deletechars, replace_space, autostrip, case_sensitive, defaultfmt, unpack, usemask, loose, invalid_raise, max_rows, encoding)\u001b[0m\n\u001b[1;32m   1747\u001b[0m             \u001b[0mfname\u001b[0m \u001b[0;34m=\u001b[0m \u001b[0mos_fspath\u001b[0m\u001b[0;34m(\u001b[0m\u001b[0mfname\u001b[0m\u001b[0;34m)\u001b[0m\u001b[0;34m\u001b[0m\u001b[0;34m\u001b[0m\u001b[0m\n\u001b[1;32m   1748\u001b[0m         \u001b[0;32mif\u001b[0m \u001b[0misinstance\u001b[0m\u001b[0;34m(\u001b[0m\u001b[0mfname\u001b[0m\u001b[0;34m,\u001b[0m \u001b[0mstr\u001b[0m\u001b[0;34m)\u001b[0m\u001b[0;34m:\u001b[0m\u001b[0;34m\u001b[0m\u001b[0;34m\u001b[0m\u001b[0m\n\u001b[0;32m-> 1749\u001b[0;31m             \u001b[0mfid\u001b[0m \u001b[0;34m=\u001b[0m \u001b[0mnp\u001b[0m\u001b[0;34m.\u001b[0m\u001b[0mlib\u001b[0m\u001b[0;34m.\u001b[0m\u001b[0m_datasource\u001b[0m\u001b[0;34m.\u001b[0m\u001b[0mopen\u001b[0m\u001b[0;34m(\u001b[0m\u001b[0mfname\u001b[0m\u001b[0;34m,\u001b[0m \u001b[0;34m'rt'\u001b[0m\u001b[0;34m,\u001b[0m \u001b[0mencoding\u001b[0m\u001b[0;34m=\u001b[0m\u001b[0mencoding\u001b[0m\u001b[0;34m)\u001b[0m\u001b[0;34m\u001b[0m\u001b[0;34m\u001b[0m\u001b[0m\n\u001b[0m\u001b[1;32m   1750\u001b[0m             \u001b[0mfid_ctx\u001b[0m \u001b[0;34m=\u001b[0m \u001b[0mcontextlib\u001b[0m\u001b[0;34m.\u001b[0m\u001b[0mclosing\u001b[0m\u001b[0;34m(\u001b[0m\u001b[0mfid\u001b[0m\u001b[0;34m)\u001b[0m\u001b[0;34m\u001b[0m\u001b[0;34m\u001b[0m\u001b[0m\n\u001b[1;32m   1751\u001b[0m         \u001b[0;32melse\u001b[0m\u001b[0;34m:\u001b[0m\u001b[0;34m\u001b[0m\u001b[0;34m\u001b[0m\u001b[0m\n",
      "\u001b[0;32m~/anaconda3/lib/python3.7/site-packages/numpy/lib/_datasource.py\u001b[0m in \u001b[0;36mopen\u001b[0;34m(path, mode, destpath, encoding, newline)\u001b[0m\n\u001b[1;32m    193\u001b[0m \u001b[0;34m\u001b[0m\u001b[0m\n\u001b[1;32m    194\u001b[0m     \u001b[0mds\u001b[0m \u001b[0;34m=\u001b[0m \u001b[0mDataSource\u001b[0m\u001b[0;34m(\u001b[0m\u001b[0mdestpath\u001b[0m\u001b[0;34m)\u001b[0m\u001b[0;34m\u001b[0m\u001b[0;34m\u001b[0m\u001b[0m\n\u001b[0;32m--> 195\u001b[0;31m     \u001b[0;32mreturn\u001b[0m \u001b[0mds\u001b[0m\u001b[0;34m.\u001b[0m\u001b[0mopen\u001b[0m\u001b[0;34m(\u001b[0m\u001b[0mpath\u001b[0m\u001b[0;34m,\u001b[0m \u001b[0mmode\u001b[0m\u001b[0;34m,\u001b[0m \u001b[0mencoding\u001b[0m\u001b[0;34m=\u001b[0m\u001b[0mencoding\u001b[0m\u001b[0;34m,\u001b[0m \u001b[0mnewline\u001b[0m\u001b[0;34m=\u001b[0m\u001b[0mnewline\u001b[0m\u001b[0;34m)\u001b[0m\u001b[0;34m\u001b[0m\u001b[0;34m\u001b[0m\u001b[0m\n\u001b[0m\u001b[1;32m    196\u001b[0m \u001b[0;34m\u001b[0m\u001b[0m\n\u001b[1;32m    197\u001b[0m \u001b[0;34m\u001b[0m\u001b[0m\n",
      "\u001b[0;32m~/anaconda3/lib/python3.7/site-packages/numpy/lib/_datasource.py\u001b[0m in \u001b[0;36mopen\u001b[0;34m(self, path, mode, encoding, newline)\u001b[0m\n\u001b[1;32m    533\u001b[0m                                       encoding=encoding, newline=newline)\n\u001b[1;32m    534\u001b[0m         \u001b[0;32melse\u001b[0m\u001b[0;34m:\u001b[0m\u001b[0;34m\u001b[0m\u001b[0;34m\u001b[0m\u001b[0m\n\u001b[0;32m--> 535\u001b[0;31m             \u001b[0;32mraise\u001b[0m \u001b[0mIOError\u001b[0m\u001b[0;34m(\u001b[0m\u001b[0;34m\"%s not found.\"\u001b[0m \u001b[0;34m%\u001b[0m \u001b[0mpath\u001b[0m\u001b[0;34m)\u001b[0m\u001b[0;34m\u001b[0m\u001b[0;34m\u001b[0m\u001b[0m\n\u001b[0m\u001b[1;32m    536\u001b[0m \u001b[0;34m\u001b[0m\u001b[0m\n\u001b[1;32m    537\u001b[0m \u001b[0;34m\u001b[0m\u001b[0m\n",
      "\u001b[0;31mOSError\u001b[0m: /spin_results/mTOV_convergence/mTOV_2_run_50_likes.txt not found."
     ]
    }
   ],
   "source": [
    "samples = np.genfromtxt('/mnt/c/users/christine/gwcosmology/spin!!/mTOV_2_run_10.txt')\n",
    "likes = np.genfromtxt('/spin_results/mTOV_convergence/mTOV_2_run_50_likes.txt')\n"
   ]
  },
  {
   "cell_type": "code",
   "execution_count": 6,
   "metadata": {
    "ExecuteTime": {
     "end_time": "2021-07-22T17:02:19.267224Z",
     "start_time": "2021-07-22T17:02:19.253851Z"
    }
   },
   "outputs": [
    {
     "ename": "NameError",
     "evalue": "name 'likes' is not defined",
     "output_type": "error",
     "traceback": [
      "\u001b[0;31m---------------------------------------------------------------------------\u001b[0m",
      "\u001b[0;31mNameError\u001b[0m                                 Traceback (most recent call last)",
      "\u001b[0;32m<ipython-input-6-8f50ef2c381f>\u001b[0m in \u001b[0;36m<module>\u001b[0;34m\u001b[0m\n\u001b[0;32m----> 1\u001b[0;31m \u001b[0mlikes\u001b[0m\u001b[0;34m\u001b[0m\u001b[0;34m\u001b[0m\u001b[0m\n\u001b[0m",
      "\u001b[0;31mNameError\u001b[0m: name 'likes' is not defined"
     ]
    }
   ],
   "source": [
    "likes"
   ]
  },
  {
   "cell_type": "code",
   "execution_count": 4,
   "metadata": {
    "ExecuteTime": {
     "end_time": "2021-07-22T17:02:09.475709Z",
     "start_time": "2021-07-22T17:02:09.286231Z"
    }
   },
   "outputs": [],
   "source": [
    " samples = np.genfromtxt('mTOV_2_run_10.txt')"
   ]
  },
  {
   "cell_type": "code",
   "execution_count": 81,
   "metadata": {
    "ExecuteTime": {
     "end_time": "2021-07-22T15:54:32.637395Z",
     "start_time": "2021-07-22T15:54:32.021858Z"
    }
   },
   "outputs": [
    {
     "data": {
      "text/plain": [
       "[<matplotlib.lines.Line2D at 0x7f936bda0a90>]"
      ]
     },
     "execution_count": 81,
     "metadata": {},
     "output_type": "execute_result"
    },
    {
     "data": {
      "image/png": "[encoded data removed]",
      "text/plain": [
       "<Figure size 432x288 with 1 Axes>"
      ]
     },
     "metadata": {
      "needs_background": "light"
     },
     "output_type": "display_data"
    }
   ],
   "source": [
    "plt.plot(samples[:,2][np.argsort(samples[:,2])], np.exp(likes[np.argsort(samples[:,2])]))"
   ]
  },
  {
   "cell_type": "code",
   "execution_count": 82,
   "metadata": {
    "ExecuteTime": {
     "end_time": "2021-07-22T15:54:34.326844Z",
     "start_time": "2021-07-22T15:54:33.155075Z"
    }
   },
   "outputs": [
    {
     "data": {
      "image/png": "[encoded data removed]",
      "text/plain": [
       "<Figure size 432x288 with 1 Axes>"
      ]
     },
     "metadata": {
      "needs_background": "light"
     },
     "output_type": "display_data"
    }
   ],
   "source": [
    "plt.hist(likes)\n",
    "plt.yscale('log')"
   ]
  },
  {
   "cell_type": "code",
   "execution_count": 65,
   "metadata": {
    "ExecuteTime": {
     "end_time": "2021-07-22T15:47:30.791173Z",
     "start_time": "2021-07-22T15:47:29.910326Z"
    }
   },
   "outputs": [
    {
     "data": {
      "text/plain": [
       "(array([1.0061728 , 3.1422985 , 2.65636974, 1.49639098, 0.86400953,\n",
       "        0.68630545, 0.84440081, 1.05029244, 1.61588166, 2.93763242]),\n",
       " array([1.88649111, 1.94784173, 2.00919235, 2.07054297, 2.13189359,\n",
       "        2.1932442 , 2.25459482, 2.31594544, 2.37729606, 2.43864668,\n",
       "        2.49999729]),\n",
       " [<matplotlib.patches.Polygon at 0x7f937e6b0fd0>])"
      ]
     },
     "execution_count": 65,
     "metadata": {},
     "output_type": "execute_result"
    },
    {
     "data": {
      "image/png": "[encoded data removed]",
      "text/plain": [
       "<Figure size 432x288 with 1 Axes>"
      ]
     },
     "metadata": {
      "needs_background": "light"
     },
     "output_type": "display_data"
    }
   ],
   "source": [
    "plt.hist(samples[:,2], color='k', density=True, histtype='step')"
   ]
  },
  {
   "cell_type": "code",
   "execution_count": 391,
   "metadata": {
    "ExecuteTime": {
     "end_time": "2021-07-21T21:00:23.344507Z",
     "start_time": "2021-07-21T21:00:23.328599Z"
    }
   },
   "outputs": [
    {
     "data": {
      "text/plain": [
       "<HDF5 dataset \"chain\": shape (20000, 14, 7), type \"<f8\">"
      ]
     },
     "execution_count": 391,
     "metadata": {},
     "output_type": "execute_result"
    }
   ],
   "source": [
    "f['mcmc']['chain']"
   ]
  },
  {
   "cell_type": "code",
   "execution_count": 392,
   "metadata": {
    "ExecuteTime": {
     "end_time": "2021-07-21T21:01:00.407003Z",
     "start_time": "2021-07-21T21:01:00.275183Z"
    }
   },
   "outputs": [],
   "source": [
    "samples = np.array(f['mcmc']['chain']).reshape((280000,7))"
   ]
  },
  {
   "cell_type": "code",
   "execution_count": 441,
   "metadata": {
    "ExecuteTime": {
     "end_time": "2021-07-21T22:03:45.554861Z",
     "start_time": "2021-07-21T22:03:45.542238Z"
    }
   },
   "outputs": [
    {
     "data": {
      "text/plain": [
       "(26600, 7)"
      ]
     },
     "execution_count": 441,
     "metadata": {},
     "output_type": "execute_result"
    }
   ],
   "source": [
    "samples.shape"
   ]
  },
  {
   "cell_type": "code",
   "execution_count": 430,
   "metadata": {
    "ExecuteTime": {
     "end_time": "2021-07-21T21:12:30.467373Z",
     "start_time": "2021-07-21T21:12:30.431391Z"
    }
   },
   "outputs": [
    {
     "data": {
      "text/plain": [
       "-79.30117920083256"
      ]
     },
     "execution_count": 430,
     "metadata": {},
     "output_type": "execute_result"
    }
   ],
   "source": [
    "test.pop_like(pop, [1.4, 0.5, 2, 5, 4, 1.0, 0])"
   ]
  },
  {
   "cell_type": "code",
   "execution_count": 404,
   "metadata": {
    "ExecuteTime": {
     "end_time": "2021-07-21T21:09:30.541700Z",
     "start_time": "2021-07-21T21:09:29.765130Z"
    }
   },
   "outputs": [],
   "source": [
    "pop = np.genfromtxt('./results/pop_samples.txt')"
   ]
  },
  {
   "cell_type": "code",
   "execution_count": 414,
   "metadata": {
    "ExecuteTime": {
     "end_time": "2021-07-21T21:11:31.914992Z",
     "start_time": "2021-07-21T21:11:31.911556Z"
    }
   },
   "outputs": [],
   "source": [
    "test.samples=True"
   ]
  },
  {
   "cell_type": "code",
   "execution_count": 406,
   "metadata": {
    "ExecuteTime": {
     "end_time": "2021-07-21T21:09:32.649083Z",
     "start_time": "2021-07-21T21:09:32.645487Z"
    }
   },
   "outputs": [],
   "source": [
    "pop = pop.reshape((50, 3000, 4))"
   ]
  },
  {
   "cell_type": "code",
   "execution_count": 411,
   "metadata": {
    "ExecuteTime": {
     "end_time": "2021-07-21T21:09:44.458448Z",
     "start_time": "2021-07-21T21:09:43.915434Z"
    },
    "scrolled": false
   },
   "outputs": [
    {
     "data": {
      "image/png": "[encoded data removed]",
      "text/plain": [
       "<Figure size 547.2x547.2 with 9 Axes>"
      ]
     },
     "metadata": {
      "needs_background": "light"
     },
     "output_type": "display_data"
    }
   ],
   "source": [
    "corner.corner(pop[30][:,[0,1,3]]);"
   ]
  },
  {
   "cell_type": "code",
   "execution_count": 111,
   "metadata": {
    "ExecuteTime": {
     "end_time": "2021-07-21T16:13:03.792417Z",
     "start_time": "2021-07-21T16:13:03.493391Z"
    }
   },
   "outputs": [
    {
     "data": {
      "text/plain": [
       "[<matplotlib.lines.Line2D at 0x7f278faaac50>]"
      ]
     },
     "execution_count": 111,
     "metadata": {},
     "output_type": "execute_result"
    },
    {
     "data": {
      "image/png": "[encoded data removed]",
      "text/plain": [
       "<Figure size 432x288 with 1 Axes>"
      ]
     },
     "metadata": {
      "needs_background": "light"
     },
     "output_type": "display_data"
    }
   ],
   "source": [
    "plt.plot(pop[1][::8,1])"
   ]
  },
  {
   "cell_type": "code",
   "execution_count": 19,
   "metadata": {
    "ExecuteTime": {
     "end_time": "2021-07-22T05:08:37.748925Z",
     "start_time": "2021-07-22T05:08:37.739583Z"
    }
   },
   "outputs": [
    {
     "name": "stdout",
     "output_type": "stream",
     "text": [
      "vary slope: False\n",
      "selection: True\n",
      "spinning: False\n",
      "no m1 spin: True\n"
     ]
    }
   ],
   "source": [
    "test = p.Population([1.4, 0.5, 2, 1, 3, 5, 4], 'nsbh_one', False, selection=True, m1_nospin = True, spinning=False, spin_params=[1, 1])"
   ]
  },
  {
   "cell_type": "code",
   "execution_count": 22,
   "metadata": {
    "ExecuteTime": {
     "end_time": "2021-07-22T05:09:13.530115Z",
     "start_time": "2021-07-22T05:09:06.862150Z"
    }
   },
   "outputs": [
    {
     "name": "stdout",
     "output_type": "stream",
     "text": [
      "0.046620046620046623\n"
     ]
    }
   ],
   "source": [
    "pop = test.get_population(20, False)"
   ]
  },
  {
   "cell_type": "code",
   "execution_count": 29,
   "metadata": {
    "ExecuteTime": {
     "end_time": "2021-07-22T05:38:03.844680Z",
     "start_time": "2021-07-22T05:38:00.187882Z"
    }
   },
   "outputs": [
    {
     "name": "stdout",
     "output_type": "stream",
     "text": [
      "[0.07833974 0.07833974 0.         0.03916987] [[5.63400248 1.9079921  0.         0.65292981]\n",
      " [5.51716354 2.01933212 0.         0.59938448]\n",
      " [5.48385806 1.95779149 0.         0.72887748]\n",
      " [5.50410028 2.13916245 0.         0.69504755]\n",
      " [5.63376871 2.14060657 0.         0.65394565]\n",
      " [5.39774097 2.02651705 0.         0.64851758]\n",
      " [5.62380392 2.09724237 0.         0.61743413]\n",
      " [5.56812976 2.13498219 0.         0.75216509]]\n",
      "[0.0820522 0.0820522 0.        0.0410261] [[5.22343734 1.51057667 0.         0.2484339 ]\n",
      " [5.20038618 1.44107147 0.         0.19008616]\n",
      " [5.07586448 1.38133325 0.         0.23647295]\n",
      " [5.10985702 1.33809201 0.         0.280207  ]\n",
      " [5.1964528  1.37867288 0.         0.18934632]\n",
      " [5.25880416 1.43469351 0.         0.23712608]\n",
      " [5.17858939 1.38491933 0.         0.23171454]\n",
      " [5.10770779 1.47073542 0.         0.26577801]]\n"
     ]
    }
   ],
   "source": [
    "pop = test.get_population(2, True)"
   ]
  },
  {
   "cell_type": "code",
   "execution_count": 30,
   "metadata": {
    "ExecuteTime": {
     "end_time": "2021-07-22T05:38:11.855236Z",
     "start_time": "2021-07-22T05:38:05.535629Z"
    }
   },
   "outputs": [
    {
     "name": "stdout",
     "output_type": "stream",
     "text": [
      "[0.09640242 0.09640242 0.         0.04820121] [[6.07511151 1.97636557 0.         0.94532955]\n",
      " [6.1053472  2.0362457  0.         0.9828523 ]\n",
      " [5.92715817 1.90564899 0.         0.92979429]\n",
      " [6.07141914 2.05638096 0.         0.95928703]\n",
      " [6.12357206 1.91457921 0.         0.89067565]\n",
      " [6.05441398 2.08003767 0.         1.00400275]\n",
      " [5.98903349 1.9746981  0.         0.99078162]\n",
      " [6.176506   2.06598959 0.         0.91620329]]\n",
      "[0.08444752 0.08444752 0.         0.04222376] [[5.74971835 1.64266024 0.         0.66499053]\n",
      " [5.73777617 1.5503593  0.         0.66589567]\n",
      " [5.6986758  1.57905648 0.         0.67530441]\n",
      " [5.78679222 1.56597999 0.         0.67732719]\n",
      " [5.80330915 1.54708301 0.         0.61949035]\n",
      " [5.50958609 1.48421381 0.         0.66882089]\n",
      " [5.69466828 1.54922795 0.         0.65688078]\n",
      " [5.90320088 1.67935942 0.         0.59923855]]\n"
     ]
    }
   ],
   "source": [
    "pop2 = test.get_population(2, True)"
   ]
  },
  {
   "cell_type": "code",
   "execution_count": 32,
   "metadata": {
    "ExecuteTime": {
     "end_time": "2021-07-22T05:38:19.790746Z",
     "start_time": "2021-07-22T05:38:19.783111Z"
    }
   },
   "outputs": [
    {
     "data": {
      "text/plain": [
       "(4, 3000, 4)"
      ]
     },
     "execution_count": 32,
     "metadata": {},
     "output_type": "execute_result"
    }
   ],
   "source": [
    "np.vstack([pop, pop2]).shape"
   ]
  },
  {
   "cell_type": "code",
   "execution_count": 13,
   "metadata": {
    "ExecuteTime": {
     "end_time": "2021-07-21T22:31:15.167800Z",
     "start_time": "2021-07-21T22:31:15.039128Z"
    }
   },
   "outputs": [
    {
     "data": {
      "text/plain": [
       "-76.63955081476718"
      ]
     },
     "execution_count": 13,
     "metadata": {},
     "output_type": "execute_result"
    }
   ],
   "source": [
    "test.samples = True\n",
    "test.pop_like(pop, [1.4, 0.5, 2, 5, 4])"
   ]
  },
  {
   "cell_type": "code",
   "execution_count": 3,
   "metadata": {
    "ExecuteTime": {
     "end_time": "2021-07-21T22:27:49.401080Z",
     "start_time": "2021-07-21T22:27:44.125785Z"
    }
   },
   "outputs": [],
   "source": [
    "pop = np.genfromtxt('./results/full_pop_samples.txt')"
   ]
  },
  {
   "cell_type": "code",
   "execution_count": 4,
   "metadata": {
    "ExecuteTime": {
     "end_time": "2021-07-21T22:27:49.998276Z",
     "start_time": "2021-07-21T22:27:49.817415Z"
    }
   },
   "outputs": [],
   "source": [
    "pop = pop.reshape((50,3000,4))"
   ]
  },
  {
   "cell_type": "code",
   "execution_count": 464,
   "metadata": {
    "ExecuteTime": {
     "end_time": "2021-07-21T22:19:57.337178Z",
     "start_time": "2021-07-21T22:19:57.328673Z"
    }
   },
   "outputs": [],
   "source": [
    "test.samples = True"
   ]
  },
  {
   "cell_type": "code",
   "execution_count": 25,
   "metadata": {
    "ExecuteTime": {
     "end_time": "2021-07-22T05:09:35.083248Z",
     "start_time": "2021-07-22T05:09:35.078118Z"
    },
    "scrolled": true
   },
   "outputs": [],
   "source": [
    "pop = pop[0]"
   ]
  },
  {
   "cell_type": "code",
   "execution_count": 28,
   "metadata": {
    "ExecuteTime": {
     "end_time": "2021-07-22T05:09:48.902272Z",
     "start_time": "2021-07-22T05:09:48.575800Z"
    },
    "scrolled": true
   },
   "outputs": [
    {
     "name": "stderr",
     "output_type": "stream",
     "text": [
      "/mnt/c/users/christine/gwcosmology/spin!!/populations.py:1131: RuntimeWarning: divide by zero encountered in log\n",
      "  \n"
     ]
    },
    {
     "data": {
      "text/plain": [
       "<matplotlib.lines.Line2D at 0x7f937abef990>"
      ]
     },
     "execution_count": 28,
     "metadata": {},
     "output_type": "execute_result"
    },
    {
     "data": {
      "image/png": "[encoded data removed]",
      "text/plain": [
       "<Figure size 432x288 with 1 Axes>"
      ]
     },
     "metadata": {
      "needs_background": "light"
     },
     "output_type": "display_data"
    }
   ],
   "source": [
    "test.set_injection_spins(p.injection_set)\n",
    "result = np.zeros(50)\n",
    "slopes = np.linspace(4.5, 5.5)\n",
    "#slopes = np.linspace(0.1, 1)\n",
    "for i in range(50):\n",
    "    result[i] = test.pop_like(pop, [1.4,  0.5,  2,slopes[i], 4])\n",
    "plt.plot(slopes, np.exp(result-np.max(result)))\n",
    "plt.axvline(5)"
   ]
  },
  {
   "cell_type": "code",
   "execution_count": 125,
   "metadata": {
    "ExecuteTime": {
     "end_time": "2021-07-21T16:30:42.081065Z",
     "start_time": "2021-07-21T16:30:41.989054Z"
    }
   },
   "outputs": [
    {
     "data": {
      "text/plain": [
       "-220.07700457719875"
      ]
     },
     "execution_count": 125,
     "metadata": {},
     "output_type": "execute_result"
    }
   ],
   "source": [
    "test.pop_like(pop, [1.4, 0.5, 2, 1, 3, 5, 4])"
   ]
  },
  {
   "cell_type": "code",
   "execution_count": 413,
   "metadata": {
    "ExecuteTime": {
     "end_time": "2021-07-21T21:11:25.951482Z",
     "start_time": "2021-07-21T21:11:25.942698Z"
    }
   },
   "outputs": [
    {
     "name": "stdout",
     "output_type": "stream",
     "text": [
      "vary slope: False\n",
      "selection: True\n",
      "spinning: True\n",
      "no m1 spin: True\n"
     ]
    }
   ],
   "source": [
    "test = p.Population([1.4, 0.5, 2, 1, 3, 5, 4], 'nsbh_one', False, selection=True, m1_nospin = True, spinning=True, spin_params=[1, 0])"
   ]
  },
  {
   "cell_type": "code",
   "execution_count": 321,
   "metadata": {
    "ExecuteTime": {
     "end_time": "2021-07-21T17:03:47.064638Z",
     "start_time": "2021-07-21T17:03:47.055223Z"
    }
   },
   "outputs": [
    {
     "name": "stdout",
     "output_type": "stream",
     "text": [
      "vary slope: False\n",
      "selection: False\n",
      "spinning: False\n",
      "no m1 spin: True\n"
     ]
    }
   ],
   "source": [
    "test = p.Population([1.4, 0.5, 2, 0, 3], 'one', False, selection=False, m1_nospin = True, spinning=False)"
   ]
  },
  {
   "cell_type": "code",
   "execution_count": 310,
   "metadata": {
    "ExecuteTime": {
     "end_time": "2021-07-21T17:01:46.500513Z",
     "start_time": "2021-07-21T17:01:44.744627Z"
    }
   },
   "outputs": [
    {
     "name": "stdout",
     "output_type": "stream",
     "text": [
      "1.0\n"
     ]
    }
   ],
   "source": [
    "pop = test.get_population(10000, False)"
   ]
  },
  {
   "cell_type": "code",
   "execution_count": 369,
   "metadata": {
    "ExecuteTime": {
     "end_time": "2021-07-21T18:28:59.728357Z",
     "start_time": "2021-07-21T18:28:59.721165Z"
    }
   },
   "outputs": [],
   "source": [
    "data = p.generate_truncnormal(10000,1.4, 0.5, 1, 2)"
   ]
  },
  {
   "cell_type": "code",
   "execution_count": 311,
   "metadata": {
    "ExecuteTime": {
     "end_time": "2021-07-21T17:01:48.326841Z",
     "start_time": "2021-07-21T17:01:48.321917Z"
    }
   },
   "outputs": [],
   "source": [
    "data = pop[:,:,0].squeeze()"
   ]
  },
  {
   "cell_type": "code",
   "execution_count": 380,
   "metadata": {
    "ExecuteTime": {
     "end_time": "2021-07-21T18:29:21.094693Z",
     "start_time": "2021-07-21T18:29:20.626506Z"
    }
   },
   "outputs": [
    {
     "name": "stdout",
     "output_type": "stream",
     "text": [
      "1.0\n"
     ]
    }
   ],
   "source": [
    "pop = test.get_population(1000, False)\n",
    "data = pop[:,:,0].squeeze()\n",
    "data2 = pop[:,:,1].squeeze()\n",
    "mus = np.linspace(1.2, 1.6)\n",
    "sigmas = np.linspace(0.2, 0.7)\n",
    "results = np.zeros((50,50))\n",
    "for i in range(50):\n",
    "    for j in range(50):\n",
    "        results[i,j]=np.sum(np.log(p.truncnormal_like(data, mus[i], sigmas[j], 1, 2) * p.like_m2(data2, data, 1, 3))) #pop[:,:,0].squeeze()"
   ]
  },
  {
   "cell_type": "code",
   "execution_count": 381,
   "metadata": {
    "ExecuteTime": {
     "end_time": "2021-07-21T18:29:21.426934Z",
     "start_time": "2021-07-21T18:29:21.130019Z"
    }
   },
   "outputs": [
    {
     "name": "stdout",
     "output_type": "stream",
     "text": [
      "[  1.           1.99784023   2.98903023 ... 135.1032793  135.1032793\n",
      " 135.1032793 ]\n",
      "[0.68 0.95]\n"
     ]
    },
    {
     "data": {
      "text/plain": [
       "<matplotlib.collections.PathCollection at 0x7f272ee1b050>"
      ]
     },
     "execution_count": 381,
     "metadata": {},
     "output_type": "execute_result"
    },
    {
     "data": {
      "image/png": "[encoded data removed]",
      "text/plain": [
       "<Figure size 432x288 with 1 Axes>"
      ]
     },
     "metadata": {
      "needs_background": "light"
     },
     "output_type": "display_data"
    }
   ],
   "source": [
    "plt.contourf(np.exp(results-np.max(results)), extent=[np.min(mus), np.max(mus), np.min(sigmas), np.max(sigmas)], levels=credible_levels(np.exp(results-np.max(results)).flatten(), np.array([0.68, 0.95])))\n",
    "plt.scatter(1.4, 0.5, c='r')"
   ]
  },
  {
   "cell_type": "code",
   "execution_count": null,
   "metadata": {
    "ExecuteTime": {
     "end_time": "2021-07-21T18:23:56.876254Z",
     "start_time": "2021-07-21T18:20:54.086720Z"
    },
    "scrolled": true
   },
   "outputs": [],
   "source": [
    "pop = test.get_population(1000, False)\n",
    "data = pop[:,:,0].squeeze()\n",
    "data2 = pop[:,:,1].squeeze()\n",
    "mus = np.linspace(1.2, 1.6)\n",
    "sigmas = np.linspace(0.2, 0.7)\n",
    "results = np.zeros((50,50))\n",
    "for i in range(50):\n",
    "    print(i)\n",
    "    for j in range(50):\n",
    "        results[i,j]=test.pop_like(pop, params=[mus[i], sigmas[j], 2]) #pop[:,:,0].squeeze()"
   ]
  },
  {
   "cell_type": "code",
   "execution_count": 368,
   "metadata": {
    "ExecuteTime": {
     "end_time": "2021-07-21T18:28:48.100272Z",
     "start_time": "2021-07-21T18:28:47.687480Z"
    },
    "scrolled": true
   },
   "outputs": [
    {
     "name": "stdout",
     "output_type": "stream",
     "text": [
      "[  1.           1.98104363   2.95841679 ... 145.38011032 145.38011032\n",
      " 145.38011032]\n",
      "[0.68 0.95]\n"
     ]
    },
    {
     "data": {
      "text/plain": [
       "<matplotlib.collections.PathCollection at 0x7f272f8aaf10>"
      ]
     },
     "execution_count": 368,
     "metadata": {},
     "output_type": "execute_result"
    },
    {
     "data": {
      "image/png": "[encoded data removed]",
      "text/plain": [
       "<Figure size 432x288 with 1 Axes>"
      ]
     },
     "metadata": {
      "needs_background": "light"
     },
     "output_type": "display_data"
    }
   ],
   "source": [
    "plt.contourf(np.exp(results-np.max(results)), extent=[np.min(mus), np.max(mus), np.min(sigmas), np.max(sigmas)], levels=credible_levels(np.exp(results-np.max(results)).flatten(), np.array([0.68, 0.95])))\n",
    "plt.scatter(1.4, 0.5, c='r')"
   ]
  },
  {
   "cell_type": "code",
   "execution_count": 241,
   "metadata": {
    "ExecuteTime": {
     "end_time": "2021-07-21T16:50:57.083019Z",
     "start_time": "2021-07-21T16:50:57.062241Z"
    }
   },
   "outputs": [],
   "source": [
    "def credible_levels(ps, fs):\n",
    "    \"\"\"Find the probability levels that correspond to a given array of credible levels, e.g. to then pass into the levels argument of a contour plot\n",
    "    Parameters:\n",
    "       ps (1-d numpy array):\n",
    "          the PDF values, a flattened array\n",
    "       fs (1-d numpy array):\n",
    "          the desired credible levels in ascending order, e.g. array([0.5,0.9]) for 50% and 90% credible levels\n",
    "    \"\"\"\n",
    "    sorter = np.argsort(ps)\n",
    "    ps_sorted = ps[sorter]\n",
    "    ps_sorted = ps_sorted[::-1] #largest to smallest\n",
    "    csum = np.cumsum(ps_sorted)\n",
    "    print(csum)\n",
    "    print(fs) \n",
    "    idxs = np.searchsorted(csum,fs*csum[-1])\n",
    "    levels = ps_sorted[idxs]\n",
    "    levels = levels[::-1]\n",
    "    return levels"
   ]
  },
  {
   "cell_type": "code",
   "execution_count": 73,
   "metadata": {
    "ExecuteTime": {
     "end_time": "2021-07-21T06:57:42.888503Z",
     "start_time": "2021-07-21T06:55:46.076406Z"
    }
   },
   "outputs": [
    {
     "name": "stderr",
     "output_type": "stream",
     "text": [
      " 40%|████      | 401/1000 [00:44<01:12,  8.27it/s]/mnt/c/users/christine/gwcosmology/spin!!/populations.py:1020: RuntimeWarning: divide by zero encountered in log\n",
      "  result = np.sum([np.log(self.event_likelihood_one_single(i, params)/mu) for i in samples])\n",
      "100%|██████████| 1000/1000 [01:56<00:00,  8.57it/s]\n"
     ]
    }
   ],
   "source": [
    "a, b = test.infer(pop, fixed={\"m_TOV\":2, \"bh_min\": 5, \"bh_slope\": 4, \"max_jjkep\": 1, \"spin_slope\": 1}, steps=1000)"
   ]
  },
  {
   "cell_type": "code",
   "execution_count": 74,
   "metadata": {
    "ExecuteTime": {
     "end_time": "2021-07-21T06:57:49.847124Z",
     "start_time": "2021-07-21T06:57:49.063895Z"
    }
   },
   "outputs": [
    {
     "data": {
      "image/png": "[encoded data removed]",
      "text/plain": [
       "<Figure size 396x396 with 4 Axes>"
      ]
     },
     "metadata": {
      "needs_background": "light"
     },
     "output_type": "display_data"
    }
   ],
   "source": [
    "corner.corner(a[:,[0,1]]);"
   ]
  },
  {
   "cell_type": "code",
   "execution_count": 64,
   "metadata": {
    "ExecuteTime": {
     "end_time": "2021-07-21T06:46:14.327745Z",
     "start_time": "2021-07-21T06:44:35.667471Z"
    }
   },
   "outputs": [],
   "source": [
    "mus = np.linspace(1, 2)\n",
    "sigmas = np.linspace(0.1, 1.0)\n",
    "results = np.zeros((50,50))\n",
    "for i in range(50):\n",
    "    for j in range(50):\n",
    "        results[i,j]=test.pop_like(pop, [mus[i], sigmas[j], 2, 5, 4, 1, 1])"
   ]
  },
  {
   "cell_type": "code",
   "execution_count": 75,
   "metadata": {
    "ExecuteTime": {
     "end_time": "2021-07-21T06:58:52.367349Z",
     "start_time": "2021-07-21T06:58:16.309884Z"
    }
   },
   "outputs": [],
   "source": [
    "mus = np.linspace(1, 2)\n",
    "sigmas = np.linspace(0.1, 1.0)\n",
    "results = np.zeros((50,50))\n",
    "for i in range(50):\n",
    "    for j in range(50):\n",
    "        results[i,j]=test.pop_like(pop, [mus[i], sigmas[j], 2, 5, 4, 1, 1])"
   ]
  },
  {
   "cell_type": "code",
   "execution_count": 76,
   "metadata": {
    "ExecuteTime": {
     "end_time": "2021-07-21T06:58:54.551042Z",
     "start_time": "2021-07-21T06:58:54.174058Z"
    }
   },
   "outputs": [
    {
     "data": {
      "text/plain": [
       "<matplotlib.image.AxesImage at 0x7f278714bf50>"
      ]
     },
     "execution_count": 76,
     "metadata": {},
     "output_type": "execute_result"
    },
    {
     "data": {
      "image/png": "[encoded data removed]",
      "text/plain": [
       "<Figure size 432x288 with 1 Axes>"
      ]
     },
     "metadata": {
      "needs_background": "light"
     },
     "output_type": "display_data"
    }
   ],
   "source": [
    "plt.imshow(np.exp(results), extent=[1,2,0.1,1.0])"
   ]
  },
  {
   "cell_type": "code",
   "execution_count": 68,
   "metadata": {
    "ExecuteTime": {
     "end_time": "2021-07-21T06:46:51.988582Z",
     "start_time": "2021-07-21T06:46:51.616344Z"
    }
   },
   "outputs": [
    {
     "data": {
      "text/plain": [
       "<matplotlib.image.AxesImage at 0x7f2787374550>"
      ]
     },
     "execution_count": 68,
     "metadata": {},
     "output_type": "execute_result"
    },
    {
     "data": {
      "image/png": "[encoded data removed]",
      "text/plain": [
       "<Figure size 432x288 with 1 Axes>"
      ]
     },
     "metadata": {
      "needs_background": "light"
     },
     "output_type": "display_data"
    }
   ],
   "source": [
    "plt.imshow(np.exp(results), extent=[1,2,0.1,1.0])"
   ]
  },
  {
   "cell_type": "code",
   "execution_count": null,
   "metadata": {},
   "outputs": [],
   "source": []
  }
 ],
 "metadata": {
  "kernelspec": {
   "display_name": "Python 3",
   "language": "python",
   "name": "python3"
  },
  "latex_envs": {
   "LaTeX_envs_menu_present": true,
   "autoclose": false,
   "autocomplete": true,
   "bibliofile": "biblio.bib",
   "cite_by": "apalike",
   "current_citInitial": 1,
   "eqLabelWithNumbers": true,
   "eqNumInitial": 1,
   "hotkeys": {
    "equation": "Ctrl-E",
    "itemize": "Ctrl-I"
   },
   "labels_anchors": false,
   "latex_user_defs": false,
   "report_style_numbering": false,
   "user_envs_cfg": false
  },
  "toc": {
   "base_numbering": 1,
   "nav_menu": {},
   "number_sections": true,
   "sideBar": true,
   "skip_h1_title": false,
   "title_cell": "Table of Contents",
   "title_sidebar": "Contents",
   "toc_cell": false,
   "toc_position": {},
   "toc_section_display": true,
   "toc_window_display": false
  },
  "varInspector": {
   "cols": {
    "lenName": 16,
    "lenType": 16,
    "lenVar": 40
   },
   "kernels_config": {
    "python": {
     "delete_cmd_postfix": "",
     "delete_cmd_prefix": "del ",
     "library": "var_list.py",
     "varRefreshCmd": "print(var_dic_list())"
    },
    "r": {
     "delete_cmd_postfix": ") ",
     "delete_cmd_prefix": "rm(",
     "library": "var_list.r",
     "varRefreshCmd": "cat(var_dic_list()) "
    }
   },
   "types_to_exclude": [
    "module",
    "function",
    "builtin_function_or_method",
    "instance",
    "_Feature"
   ],
   "window_display": false
  }
 },
 "nbformat": 4,
 "nbformat_minor": 4
}
