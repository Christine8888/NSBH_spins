{
 "cells": [
  {
   "cell_type": "code",
   "execution_count": 1,
   "metadata": {
    "ExecuteTime": {
     "end_time": "2021-09-07T05:27:34.107406Z",
     "start_time": "2021-09-07T05:27:27.667842Z"
    }
   },
   "outputs": [],
   "source": [
    "import numpy as np\n",
    "import matplotlib.pyplot as plt\n",
    "import scipy.stats as st\n",
    "import math\n",
    "import scipy\n",
    "import emcee\n",
    "import corner\n",
    "import lalsimulation as ls\n",
    "import h5py\n",
    "import snr_calculation as s \n",
    "import populations as p"
   ]
  },
  {
   "cell_type": "code",
   "execution_count": 2,
   "metadata": {
    "ExecuteTime": {
     "end_time": "2021-09-07T05:27:34.122737Z",
     "start_time": "2021-09-07T05:27:34.112459Z"
    }
   },
   "outputs": [],
   "source": [
    "SMALL_SIZE = 12\n",
    "MEDIUM_SIZE = 15\n",
    "BIGGER_SIZE = 18\n",
    "plt.rc('font', size=SMALL_SIZE)          # controls default text sizes\n",
    "plt.rc('axes', titlesize=MEDIUM_SIZE)     # fontsize of the axes title\n",
    "plt.rc('axes', labelsize=BIGGER_SIZE)    # fontsize of the x and y labels\n",
    "plt.rc('xtick', labelsize=MEDIUM_SIZE)    # fontsize of the tick labels\n",
    "plt.rc('ytick', labelsize=MEDIUM_SIZE)    # fontsize of the tick labels\n",
    "plt.rc('legend', fontsize=SMALL_SIZE)    # legend fontsize\n",
    "plt.rc('figure', titlesize=BIGGER_SIZE)  # fontsize of the figure title"
   ]
  },
  {
   "cell_type": "code",
   "execution_count": 3,
   "metadata": {
    "ExecuteTime": {
     "end_time": "2021-09-07T05:30:08.413631Z",
     "start_time": "2021-09-07T05:30:08.403233Z"
    }
   },
   "outputs": [],
   "source": [
    "def get_quantiles(fname, index, quantiles, hist=False, folder='mTOV_convergence', columns=None):\n",
    "    root = '/mnt/c/users/christine/gwcosmology/spin_results/' + folder\n",
    "    # print(root)\n",
    "    array = np.genfromtxt(root+fname)\n",
    "    \n",
    "    if columns is not None:\n",
    "        array[:,0] = array[:, columns[0]] - array[:, columns[1]]\n",
    "        index = 0\n",
    "    array = array[:,index]\n",
    "    if hist:\n",
    "        plt.hist(array,bins=50)\n",
    "    return np.quantile(array, quantiles)"
   ]
  },
  {
   "cell_type": "code",
   "execution_count": 4,
   "metadata": {
    "ExecuteTime": {
     "end_time": "2021-09-07T05:30:09.060855Z",
     "start_time": "2021-09-07T05:30:09.048689Z"
    }
   },
   "outputs": [],
   "source": [
    "def get_constraints_1c(counts, mTOV, hist=False, detector=\"APlus\", folder = 'mTOV_convergence'):\n",
    "    constraints = np.zeros((len(counts), 7))\n",
    "    for i in range(len(counts)):\n",
    "        run_name = '/{}_mTOV_{}_run_{}.txt'.format(detector, mTOV, counts[i])\n",
    "        sigma_1 = get_quantiles(run_name, 2, [0.159, 0.841],hist=hist, folder=folder)\n",
    "        sigma_2 = get_quantiles(run_name, 2, [0.025, 0.975], folder=folder)\n",
    "        sigma_3 = get_quantiles(run_name, 2, [0.0015, 0.997], folder=folder)\n",
    "        med = get_quantiles(run_name, 2, [0.5], folder=folder)\n",
    "        constraints[i] = [sigma_3[0], sigma_2[0], sigma_1[0], med[0], sigma_1[1], sigma_2[1], sigma_3[1]]\n",
    "    np.savetxt('../spin_results/outputs/{}/{}_mTOV_1C_{}.txt'.format(folder, detector, mTOV), constraints)\n",
    "    return constraints"
   ]
  },
  {
   "cell_type": "code",
   "execution_count": 5,
   "metadata": {
    "ExecuteTime": {
     "end_time": "2021-09-07T05:30:09.541291Z",
     "start_time": "2021-09-07T05:30:09.517609Z"
    }
   },
   "outputs": [],
   "source": [
    "def get_constraints_lmg_2c(counts, mTOV, bhmin, hist=False, detector=\"APlus\", folder = 'LMG_convergence'):\n",
    "    constraints = np.zeros((len(counts), 7))\n",
    "    for i in range(len(counts)):\n",
    "        run_name = '/{}_mTOV_{}_bhmin_{}_{}.txt'.format(detector, mTOV,bhmin,  counts[i])\n",
    "        sigma_1 = get_quantiles(run_name, 2, [0.159, 0.841],hist=hist, folder=folder, columns=[5, 6])\n",
    "        sigma_2 = get_quantiles(run_name, 2, [0.025, 0.975], folder=folder, columns=[5, 6])\n",
    "        sigma_3 = get_quantiles(run_name, 2, [0.0015, 0.997], folder=folder, columns=[5, 6])\n",
    "        med = get_quantiles(run_name, 2, [0.5], columns=[5, 6], folder=folder)\n",
    "        constraints[i] = [sigma_3[0], sigma_2[0], sigma_1[0], med[0], sigma_1[1], sigma_2[1], sigma_3[1]]\n",
    "    np.savetxt('../spin_results/outputs/{}/{}_LMG_2C_{}.txt'.format(folder, detector, mTOV), constraints)\n",
    "    return constraints"
   ]
  },
  {
   "cell_type": "code",
   "execution_count": 6,
   "metadata": {
    "ExecuteTime": {
     "end_time": "2021-09-07T05:30:10.057703Z",
     "start_time": "2021-09-07T05:30:10.035092Z"
    }
   },
   "outputs": [],
   "source": [
    "def get_constraints_slope_2c(counts, mTOV, hist=False, detector=\"APlus\", folder = 'mTOV_convergence'):\n",
    "    constraints = np.zeros((len(counts), 7))\n",
    "    for i in range(len(counts)):\n",
    "        run_name = '/{}_mTOV_{}_run_{}_2c_slope.txt'.format(detector, mTOV, counts[i])\n",
    "        sigma_1 = get_quantiles(run_name, 8, [0.159, 0.841],hist=hist, folder=folder)\n",
    "        sigma_2 = get_quantiles(run_name, 8, [0.025, 0.975], folder=folder)\n",
    "        sigma_3 = get_quantiles(run_name, 8, [0.0015, 0.997], folder=folder)\n",
    "        med = get_quantiles(run_name, 8, [0.5], folder=folder)\n",
    "        constraints[i] = [sigma_3[0], sigma_2[0], sigma_1[0], med[0], sigma_1[1], sigma_2[1], sigma_3[1]]\n",
    "    np.savetxt('../spin_results/outputs/{}/{}_mTOV_2C_slope_{}.txt'.format(folder, detector, mTOV), constraints)\n",
    "    return constraints"
   ]
  },
  {
   "cell_type": "code",
   "execution_count": 7,
   "metadata": {
    "ExecuteTime": {
     "end_time": "2021-09-07T05:30:10.527030Z",
     "start_time": "2021-09-07T05:30:10.505114Z"
    }
   },
   "outputs": [],
   "source": [
    "def get_bias_2c(counts, mTOV, hist=False, detector=\"APlus\", folder = 'mTOV_convergence'):\n",
    "    constraints = np.zeros((len(counts), 7))\n",
    "    for i in range(len(counts)):\n",
    "        run_name = '/{}_mTOV_{}_run_{}_2c_bias.txt'.format(detector, mTOV, counts[i])\n",
    "        sigma_1 = get_quantiles(run_name, 5, [0.159, 0.841],hist=hist, folder=folder)\n",
    "        sigma_2 = get_quantiles(run_name, 5, [0.025, 0.975], folder=folder)\n",
    "        sigma_3 = get_quantiles(run_name, 5, [0.0015, 0.997], folder=folder)\n",
    "        med = get_quantiles(run_name, 5, [0.5], folder=folder)\n",
    "        constraints[i] = [sigma_3[0], sigma_2[0], sigma_1[0], med[0], sigma_1[1], sigma_2[1], sigma_3[1]]\n",
    "    np.savetxt('../spin_results/outputs/{}/{}_mTOV_bias_2C_{}.txt'.format(folder, detector, mTOV), constraints)\n",
    "    return constraints"
   ]
  },
  {
   "cell_type": "code",
   "execution_count": 8,
   "metadata": {
    "ExecuteTime": {
     "end_time": "2021-09-07T05:30:11.159908Z",
     "start_time": "2021-09-07T05:30:11.147145Z"
    }
   },
   "outputs": [],
   "source": [
    "def quantiles_from_data(array, quantiles, hist=False):    \n",
    "    if hist:\n",
    "        plt.hist(array,bins=50)\n",
    "    return np.quantile(array, quantiles)\n",
    "\n",
    "def get_constraints(data, name, folder='real_data'):\n",
    "    constraints = np.zeros(7)\n",
    "    sigma_1 = quantiles_from_data(data, [0.159, 0.841])\n",
    "    sigma_2 = quantiles_from_data(data, [0.025, 0.975])\n",
    "    sigma_3 = quantiles_from_data(data, [0.0015, 0.997])\n",
    "    \n",
    "    med = quantiles_from_data(data, [0.5])\n",
    "    \n",
    "    constraints = [sigma_3[0], sigma_2[0], sigma_1[0], med[0], sigma_1[1], sigma_2[1], sigma_3[1]]\n",
    "    \n",
    "    np.savetxt('../spin_results/outputs/{}/{}'.format(folder, name), constraints)\n",
    "    return constraints"
   ]
  },
  {
   "cell_type": "code",
   "execution_count": 11,
   "metadata": {
    "ExecuteTime": {
     "end_time": "2021-08-15T04:31:47.432837Z",
     "start_time": "2021-08-15T04:31:45.294096Z"
    },
    "scrolled": false
   },
   "outputs": [
    {
     "data": {
      "image/png": "[encoded data removed]",
      "text/plain": [
       "<Figure size 396x396 with 4 Axes>"
      ]
     },
     "metadata": {
      "needs_background": "light"
     },
     "output_type": "display_data"
    }
   ],
   "source": [
    "corner.corner(np.genfromtxt('../spin_results/lowspin/APlus_mTOV_2.0_run_120_u_slope_0.2.txt')[:,[2,5]], plot_datapoints=False);"
   ]
  },
  {
   "cell_type": "code",
   "execution_count": 276,
   "metadata": {},
   "outputs": [
    {
     "data": {
      "text/plain": [
       "2.40542"
      ]
     },
     "execution_count": 276,
     "metadata": {},
     "output_type": "execute_result"
    }
   ],
   "source": [
    "p.m_crit(2, 1)"
   ]
  },
  {
   "cell_type": "code",
   "execution_count": null,
   "metadata": {
    "scrolled": true
   },
   "outputs": [],
   "source": [
    "!python LMG_u.py --detector \"APlus\" --event_min 30 --event_max 150 --n_events 1 --mtov_true 3 --bh_min 3 --spin_slope 0"
   ]
  },
  {
   "cell_type": "code",
   "execution_count": 217,
   "metadata": {
    "ExecuteTime": {
     "end_time": "2021-08-16T19:38:12.826966Z",
     "start_time": "2021-08-16T19:38:12.188733Z"
    }
   },
   "outputs": [],
   "source": [
    "real = np.genfromtxt('../spin_results/LMG_convergence/Design_mTOV_2.0_bhmin_2.0_20_u.txt')\n",
    "likes = np.genfromtxt('../spin_results/LMG_convergence/Design_mTOV_2.0_bhmin_2.0_20_u_likes.txt')"
   ]
  },
  {
   "cell_type": "code",
   "execution_count": 206,
   "metadata": {
    "ExecuteTime": {
     "end_time": "2021-08-16T04:32:32.465749Z",
     "start_time": "2021-08-16T04:32:15.065949Z"
    }
   },
   "outputs": [
    {
     "data": {
      "image/png": "[encoded data removed]",
      "text/plain": [
       "<Figure size 432x288 with 1 Axes>"
      ]
     },
     "metadata": {
      "needs_background": "light"
     },
     "output_type": "display_data"
    }
   ],
   "source": [
    "constraints = get_constraints_lmg_2c(np.linspace(30,150,5,dtype='int16'), 2.0, 5.0)\n",
    "plot_constraints(-1*constraints,np.linspace(30,150,5,dtype='int16'),)"
   ]
  },
  {
   "cell_type": "code",
   "execution_count": 226,
   "metadata": {
    "ExecuteTime": {
     "end_time": "2021-08-16T19:41:09.552741Z",
     "start_time": "2021-08-16T19:41:08.542017Z"
    },
    "scrolled": true
   },
   "outputs": [
    {
     "data": {
      "image/png": "[encoded data removed]",
      "text/plain": [
       "<Figure size 396x396 with 4 Axes>"
      ]
     },
     "metadata": {
      "needs_background": "light"
     },
     "output_type": "display_data"
    }
   ],
   "source": [
    "corner.corner(np.genfromtxt('../spin_results/LMG_convergence/Design_mTOV_2.2_bhmin_2.2_20_u.txt')[:,[2,3]], quantiles=[0.16, 0.84], plot_datapoints=False);"
   ]
  },
  {
   "cell_type": "code",
   "execution_count": 22,
   "metadata": {
    "ExecuteTime": {
     "end_time": "2021-09-08T00:45:42.090538Z",
     "start_time": "2021-09-08T00:45:42.071237Z"
    }
   },
   "outputs": [],
   "source": [
    "test = p.Population([0.63, 1.35, 0.07, 1.85, 0.35, 2, 1, 3, 3, 2, 0.5], 'nsbh', vary_slope=False, selection=True, m1_nospin = True, spinning=True, spin_params=[1.0, 0.0], ignore_spin=False, verbose=False)"
   ]
  },
  {
   "cell_type": "code",
   "execution_count": 23,
   "metadata": {
    "ExecuteTime": {
     "end_time": "2021-09-08T00:45:48.635253Z",
     "start_time": "2021-09-08T00:45:42.698685Z"
    }
   },
   "outputs": [],
   "source": [
    "pop = test.get_population(10, False, N_samples = 500)"
   ]
  },
  {
   "cell_type": "code",
   "execution_count": 24,
   "metadata": {
    "ExecuteTime": {
     "end_time": "2021-09-08T00:45:49.255147Z",
     "start_time": "2021-09-08T00:45:48.639745Z"
    }
   },
   "outputs": [],
   "source": [
    "p.set_detector('O3')"
   ]
  },
  {
   "cell_type": "code",
   "execution_count": 25,
   "metadata": {
    "ExecuteTime": {
     "end_time": "2021-09-08T00:45:49.291067Z",
     "start_time": "2021-09-08T00:45:49.264430Z"
    }
   },
   "outputs": [],
   "source": [
    "test.set_injection_spins(p.injection_set)"
   ]
  },
  {
   "cell_type": "code",
   "execution_count": 26,
   "metadata": {
    "ExecuteTime": {
     "end_time": "2021-09-08T00:45:49.867078Z",
     "start_time": "2021-09-08T00:45:49.325279Z"
    }
   },
   "outputs": [],
   "source": [
    "%load_ext autoreload\n",
    "%autoreload 2"
   ]
  },
  {
   "cell_type": "code",
   "execution_count": 262,
   "metadata": {
    "ExecuteTime": {
     "end_time": "2021-08-16T21:07:00.505336Z",
     "start_time": "2021-08-16T21:06:59.816125Z"
    }
   },
   "outputs": [
    {
     "data": {
      "text/plain": [
       "(array([ 567.,  725.,  942., 1145., 1111., 1120., 1145., 1071., 1100.,\n",
       "        1074.]),\n",
       " array([1.00080504, 1.30070526, 1.60060547, 1.90050568, 2.2004059 ,\n",
       "        2.50030611, 2.80020632, 3.10010654, 3.40000675, 3.69990696,\n",
       "        3.99980718]),\n",
       " <BarContainer object of 10 artists>)"
      ]
     },
     "execution_count": 262,
     "metadata": {},
     "output_type": "execute_result"
    },
    {
     "data": {
      "image/png": "[encoded data removed]",
      "text/plain": [
       "<Figure size 432x288 with 1 Axes>"
      ]
     },
     "metadata": {
      "needs_background": "light"
     },
     "output_type": "display_data"
    }
   ],
   "source": [
    "plt.hist(test.new_set[:,1])"
   ]
  },
  {
   "cell_type": "code",
   "execution_count": 265,
   "metadata": {
    "ExecuteTime": {
     "end_time": "2021-08-16T22:15:07.288389Z",
     "start_time": "2021-08-16T22:15:04.273826Z"
    }
   },
   "outputs": [
    {
     "data": {
      "text/plain": [
       "0.8619311872251773"
      ]
     },
     "execution_count": 265,
     "metadata": {},
     "output_type": "execute_result"
    }
   ],
   "source": [
    "test.selection_norm([0.63, 1.35, 0.07, 1.85, 0.35, 2, 5, 2, 1, 0])"
   ]
  },
  {
   "cell_type": "code",
   "execution_count": 27,
   "metadata": {
    "ExecuteTime": {
     "end_time": "2021-09-08T00:45:53.053970Z",
     "start_time": "2021-09-08T00:45:51.998702Z"
    }
   },
   "outputs": [
    {
     "name": "stderr",
     "output_type": "stream",
     "text": [
      "/mnt/c/users/christine/gwcosmology/spin!!/populations.py:1231: RuntimeWarning: divide by zero encountered in log\n",
      "  return np.sum(np.log(p_m1*p_m2*p_q*spin_likes/(mu)))\n"
     ]
    },
    {
     "data": {
      "text/plain": [
       "<matplotlib.lines.Line2D at 0x7f46305f25d0>"
      ]
     },
     "execution_count": 27,
     "metadata": {},
     "output_type": "execute_result"
    },
    {
     "data": {
      "image/png": "[encoded data removed]",
      "text/plain": [
       "<Figure size 432x288 with 1 Axes>"
      ]
     },
     "metadata": {
      "needs_background": "light"
     },
     "output_type": "display_data"
    }
   ],
   "source": [
    "test.samples = False\n",
    "result = np.zeros(50)\n",
    "slopes = np.linspace(2.0, 6.0)\n",
    "for i in range(50):\n",
    "    result[i] = test.pop_like(pop, [0.63, 1.35, 0.07, 1.85, 0.35, 2, slopes[i], 2, 1, 0])\n",
    "plt.plot(slopes, np.exp(result-np.max(result)))\n",
    "plt.axvline(3.0)"
   ]
  },
  {
   "cell_type": "code",
   "execution_count": null,
   "metadata": {
    "ExecuteTime": {
     "start_time": "2021-09-08T05:22:20.313Z"
    }
   },
   "outputs": [],
   "source": [
    "folder = '../spin_results/medspin/'\n",
    "for i in os.listdir(folder):\n",
    "    if 'likes' not in i and os.path.isfile(os.path.join(folder, i))  and 'slope' not in i:\n",
    "        root = i.split('.txt')[0]\n",
    "        print(root)\n",
    "        if '2c' in root:\n",
    "            real = np.genfromtxt(folder + '{}.txt'.format(root))\n",
    "            likes = np.genfromtxt(folder + '{}_likes.txt'.format(root))\n",
    "            constraints = get_constraints(real[:,5], 'mTOV/{}.txt'.format(root), folder='medspin')\n",
    "            print(constraints)\n",
    "        else:\n",
    "            real = np.genfromtxt(folder + '{}.txt'.format(root))\n",
    "            likes = np.genfromtxt(folder + '{}_likes.txt'.format(root))\n",
    "            constraints = get_constraints(real[:,2], 'mTOV/{}.txt'.format(root), folder='medspin')\n",
    "            print(constraints)"
   ]
  },
  {
   "cell_type": "code",
   "execution_count": null,
   "metadata": {
    "ExecuteTime": {
     "start_time": "2021-09-08T05:21:56.231Z"
    },
    "scrolled": true
   },
   "outputs": [
    {
     "name": "stdout",
     "output_type": "stream",
     "text": [
      "APlus_mTOV_2.0_run_120\n",
      "[1.942850194000013, 1.956393121487735, 1.9731852873736766, 1.9976264247547393, 2.017543958265842, 2.0332242408572943, 2.0476318276569274]\n",
      "APlus_mTOV_2.0_run_120_2component\n",
      "[1.9362149171561833, 1.9494499407664856, 1.9675307967264255, 1.9959286737682875, 2.0116612077419065, 2.024308327059797, 2.0426423908649576]\n",
      "APlus_mTOV_2.0_run_120_2c_bias\n",
      "[2.7037409509015355, 2.7376940949005437, 2.803394207840699, 2.969854934588957, 3.271608395809241, 3.4355747906447687, 3.48411965225984]\n",
      "APlus_mTOV_2.0_run_120_uniform\n",
      "[1.9409389692595962, 1.9537924233980835, 1.9646699499970275, 1.981164940226744, 2.0101857491830484, 2.0341431149942957, 2.0579160734976703]\n",
      "APlus_mTOV_2.0_run_120_u_bias\n",
      "[2.722694785104431, 2.735001574383537, 2.7422667773855713, 2.763558903277466, 2.795325332769496, 2.8103424325132034, 2.829275859061126]\n",
      "APlus_mTOV_2.0_run_150\n",
      "[1.9421456222904607, 1.954891181046148, 1.9679341077971395, 1.9822898097381958, 2.007999078609218, 2.0250000799506154, 2.0405020090448662]\n",
      "APlus_mTOV_2.0_run_150_2component\n",
      "[1.9468558626448753, 1.9615690971465118, 1.9745896844601496, 2.0025416121202544, 2.0147538262352116, 2.0255618410793903, 2.0443705863136863]\n",
      "APlus_mTOV_2.0_run_150_2c_bias\n",
      "[2.728712468587753, 2.7841241885446935, 2.8803831199661385, 3.1217212909208003, 3.376908931366999, 3.4746392298683078, 3.496696597180039]\n",
      "APlus_mTOV_2.0_run_150_uniform\n",
      "[1.9431804714703287, 1.9524258026391292, 1.9617245325337085, 1.9764926218051486, 1.9879895314289773, 2.0154220481436367, 2.0316245495567857]\n",
      "APlus_mTOV_2.0_run_150_u_bias\n",
      "[3.1249155753217406, 3.2319333940628225, 3.3024970280817296, 3.395566193639161, 3.4787652407233494, 3.4966709125493733, 3.4997691687067283]\n",
      "APlus_mTOV_2.0_run_30\n",
      "[1.9101637485784573, 1.9400937373173708, 1.967255795649244, 2.003295151267263, 2.0468540503896744, 2.1134945584165625, 2.195834107687173]\n",
      "APlus_mTOV_2.0_run_30_2component\n",
      "[1.8889979201915719, 1.9277762601459354, 1.9616363531915988, 2.0017000136934926, 2.0495224311150784, 2.1144872719635437, 2.2266521009001736]\n",
      "APlus_mTOV_2.0_run_30_2c_bias\n",
      "[1.9668261132177252, 2.0021022620850553, 2.0288948192074825, 2.065271299751142, 2.1192457171512573, 2.1687670530318788, 2.270859975364768]\n",
      "APlus_mTOV_2.0_run_30_uniform\n",
      "[1.9493623596048673, 1.9720782105247328, 2.003847685846968, 2.0338290105795487, 2.0717531735029695, 2.10619989749757, 2.1395602950380024]\n",
      "APlus_mTOV_2.0_run_30_u_bias\n",
      "[1.986397784222223, 1.9863977842222227, 1.9883761172827523, 1.9982961987278407, 2.009253143180052, 2.015967016146976, 2.015967016146976]\n",
      "APlus_mTOV_2.0_run_60\n",
      "[1.922888505377213, 1.94575300527173, 1.9692407057083599, 1.9971135502721253, 2.024036685611003, 2.05558521231049, 2.098582363887311]\n",
      "APlus_mTOV_2.0_run_60_2component\n",
      "[1.9105568834728233, 1.9344046992211767, 1.9543149138405924, 1.9811620273477697, 2.01880562022312, 2.0571351086618854, 2.0888282321364864]\n",
      "APlus_mTOV_2.0_run_60_2c_bias\n",
      "[2.144117218420965, 2.1644160328215887, 2.2016352926971248, 2.244511510972237, 2.2842186629774752, 2.330622899340133, 2.3950133941300553]\n",
      "APlus_mTOV_2.0_run_60_uniform\n",
      "[1.936885456954921, 1.9581781988400189, 1.9811641537225906, 2.0186851822738223, 2.0400870735883587, 2.0672396599504896, 2.083964500894303]\n",
      "APlus_mTOV_2.0_run_60_u_bias\n",
      "[2.321528374763005, 2.3420666377363113, 2.360336417300637, 2.373340339625849, 2.3940577415724005, 2.423941838184808, 2.4442617620307616]\n",
      "APlus_mTOV_2.0_run_90\n",
      "[1.9282742489645182, 1.944165644531214, 1.9603572001822716, 1.983717824722901, 2.015006138452687, 2.039963251750946, 2.0594608751826633]\n",
      "APlus_mTOV_2.0_run_90_2component\n",
      "[1.9121161940715852, 1.9310602436507593, 1.9455179709928752, 1.9635708652608528, 1.9965071200013433, 2.0185375443165854, 2.0420118194056665]\n",
      "APlus_mTOV_2.0_run_90_2c_bias\n",
      "[2.4150669968387954, 2.4582566569547666, 2.4972747396501456, 2.5611406559649152, 2.6497850151227382, 2.978253268107929, 3.4640582113765217]\n",
      "APlus_mTOV_2.0_run_90_uniform\n",
      "[1.9380077456993994, 1.955225169703431, 1.9732273299730845, 2.00147805335505, 2.030456325848634, 2.05503968561108, 2.073977426266679]\n",
      "APlus_mTOV_2.0_run_90_u_bias\n",
      "[2.5656762518278367, 2.5673654515049322, 2.57499912113292, 2.594381801122425, 2.606222166046429, 2.6222774664263255, 2.6373154712973106]\n",
      "APlus_mTOV_2.2_run_120\n",
      "[2.17147376228003, 2.1875450838084065, 2.2022242725921606, 2.2276193831036046, 2.25005913171118, 2.2696280906290167, 2.2893338096218105]\n",
      "APlus_mTOV_2.2_run_120_2component\n",
      "[2.1639210895192766, 2.1770405467144274, 2.1961752176156817, 2.2199490658289536, 2.2425549436519536, 2.2725964715244795, 2.306635414434682]\n",
      "APlus_mTOV_2.2_run_120_2c_bias\n",
      "[2.7615471872557973, 2.8150603399397394, 2.909116845812016, 3.0981676147086503, 3.309249573027472, 3.46182874344275, 3.4955485610103363]\n",
      "APlus_mTOV_2.2_run_120_uniform\n",
      "[2.176955880162725, 2.188781832150555, 2.201236993134348, 2.2186929799859794, 2.231694982493006, 2.2555649425326156, 2.2690558122095488]\n",
      "APlus_mTOV_2.2_run_120_u_bias\n",
      "[3.1155327967686928, 3.1807556524693346, 3.260475501745752, 3.36660983742936, 3.458470567327684, 3.493800201545417, 3.4994101042556536]\n",
      "APlus_mTOV_2.2_run_150\n",
      "[2.1624389925465737, 2.1822585126804093, 2.1943366827178896, 2.2190802310685296, 2.244003247961245, 2.2616258748329803, 2.2796411306905866]\n",
      "APlus_mTOV_2.2_run_150_2component\n",
      "[2.1777172418696575, 2.1926214310827534, 2.2097349921251537, 2.2269178628500876, 2.2500912714463306, 2.292411368176985, 2.312734772144363]\n",
      "APlus_mTOV_2.2_run_150_2c_bias\n",
      "[2.7773394332152974, 2.853373461434302, 2.974200347172824, 3.1965102872177478, 3.416550275307121, 3.488937287488557, 3.4976108007836006]\n",
      "APlus_mTOV_2.2_run_150_uniform\n",
      "[2.177414140360911, 2.1881755444418776, 2.2013871237588227, 2.2188236294833423, 2.231513551723758, 2.2474464839828974, 2.2605721390984104]\n",
      "APlus_mTOV_2.2_run_150_u_bias\n",
      "[3.343144203821291, 3.383444901206072, 3.4408633175107903, 3.4842237425149736, 3.4956644806570925, 3.4993362015500713, 3.499875602055981]\n",
      "APlus_mTOV_2.2_run_30\n",
      "[2.1074630257861897, 2.1382746739906975, 2.1702282469976355, 2.206110357368206, 2.24909121718177, 2.3133220296149224, 2.418498266590596]\n",
      "APlus_mTOV_2.2_run_30_2component\n",
      "[2.1640662274539255, 2.188760470297188, 2.216494664170803, 2.252317569500894, 2.2963596816659764, 2.3669236361283623, 2.439624155424762]\n",
      "APlus_mTOV_2.2_run_30_2c_bias\n",
      "[2.1466543537013787, 2.188055003433141, 2.2301916296627255, 2.267472994069507, 2.327228349400067, 2.5477481944386016, 2.685592735909637]\n",
      "APlus_mTOV_2.2_run_30_uniform\n",
      "[2.156998587864971, 2.1756344017936717, 2.1964166298544314, 2.2209465189782986, 2.2524628449452746, 2.2838229271329435, 2.3105508434967055]\n",
      "APlus_mTOV_2.2_run_30_u_bias\n",
      "[2.1770801104650386, 2.1770801104650386, 2.182866164553705, 2.1945392046878833, 2.2080249704850545, 2.216431734261395, 2.216431734261395]\n",
      "APlus_mTOV_2.2_run_60\n",
      "[2.1546605747420036, 2.186115147143005, 2.210599348276202, 2.241418542964247, 2.2721476739887976, 2.3225879285627657, 2.3747283167534925]\n",
      "APlus_mTOV_2.2_run_60_2component\n",
      "[2.164010134626339, 2.181589096124114, 2.1998338825660584, 2.2262973797466357, 2.2632124254001895, 2.321598170913366, 2.3778752691294978]\n",
      "APlus_mTOV_2.2_run_60_2c_bias\n",
      "[2.3613925854986677, 2.368026235756194, 2.3777882149229352, 2.4030589532602553, 2.4829855581705766, 3.0584858997321263, 3.4001978785545983]\n",
      "APlus_mTOV_2.2_run_60_uniform\n",
      "[2.156514209585466, 2.173553590087256, 2.1895791190987235, 2.2097205416729073, 2.2309603545559806, 2.2537079126940207, 2.2688519982903075]\n",
      "APlus_mTOV_2.2_run_60_u_bias\n",
      "[2.4553578715376854, 2.465474102823714, 2.479739763148603, 2.5085035571292136, 2.5452010692851648, 2.571100131517784, 2.599029447277867]\n",
      "APlus_mTOV_2.2_run_90\n",
      "[2.1453725691902115, 2.1689070954421545, 2.193877703807692, 2.2184160762183707, 2.24420638043213, 2.269300783758427, 2.3010944537058355]\n",
      "APlus_mTOV_2.2_run_90_2component\n",
      "[2.161025367608196, 2.180130555914073, 2.1988362525931864, 2.2184386116108827, 2.243647883844291, 2.27889992037135, 2.3105741512337965]\n",
      "APlus_mTOV_2.2_run_90_2c_bias\n",
      "[2.55168089350864, 2.581900681665166, 2.6208103184746543, 2.691435118096613, 3.166527926023858, 3.4616591907957743, 3.498381501201943]\n",
      "APlus_mTOV_2.2_run_90_uniform\n",
      "[2.164949941589798, 2.178435597855116, 2.1915473946582145, 2.208656672893646, 2.2276604944220137, 2.2436359270775035, 2.2622550061692372]\n",
      "APlus_mTOV_2.2_run_90_u_bias\n"
     ]
    },
    {
     "name": "stdout",
     "output_type": "stream",
     "text": [
      "[2.7203590530122224, 2.7265359159609637, 2.7409969230821285, 2.778855975950301, 2.8013559127934515, 2.8216760982791964, 2.8455895483586637]\n",
      "Design_mTOV_2.0_run_10\n",
      "[1.829697131280196, 1.889030184607308, 1.9496476917885752, 2.019935745618477, 2.1021283874349415, 2.2976055223604464, 2.4686081964098796]\n",
      "Design_mTOV_2.0_run_10_2component\n",
      "[1.879733391812156, 1.9164063205229342, 1.951098768003578, 2.000147450023729, 2.091280499033238, 2.2775728289623776, 2.4792543625383106]\n",
      "Design_mTOV_2.0_run_10_2c_bias\n",
      "[1.89105983862108, 1.9349298517149, 1.9857400407244183, 2.051115853707296, 2.169402622861221, 3.253099210398078, 3.46140902028895]\n",
      "Design_mTOV_2.0_run_10_uniform\n",
      "[1.7278825971793912, 1.7744143547217073, 1.8512724535256155, 1.9422625047755138, 2.038233555384811, 2.127099219732612, 2.2000304065576075]\n",
      "Design_mTOV_2.0_run_10_u_bias\n",
      "[1.8853383095123923, 1.903420955022026, 1.930564559129719, 1.976198722387816, 2.0215736227307386, 2.084503497986099, 2.143217951860634]\n",
      "Design_mTOV_2.0_run_20\n"
     ]
    }
   ],
   "source": [
    "folder = '../spin_results/lowspin/'\n",
    "for i in os.listdir(folder):\n",
    "    if 'likes' not in i and os.path.isfile(os.path.join(folder, i))  and 'slope' not in i:\n",
    "        root = i.split('.txt')[0]\n",
    "        print(root)\n",
    "        if '2c' in root:\n",
    "            real = np.genfromtxt(folder + '{}.txt'.format(root))\n",
    "            likes = np.genfromtxt(folder + '{}_likes.txt'.format(root))\n",
    "            constraints = get_constraints(real[:,5], 'mTOV/{}.txt'.format(root), folder='lowspin')\n",
    "            print(constraints)\n",
    "        else:\n",
    "            real = np.genfromtxt(folder + '{}.txt'.format(root))\n",
    "            likes = np.genfromtxt(folder + '{}_likes.txt'.format(root))\n",
    "            constraints = get_constraints(real[:,2], 'mTOV/{}.txt'.format(root), folder='lowspin')\n",
    "            print(constraints)"
   ]
  },
  {
   "cell_type": "code",
   "execution_count": 60,
   "metadata": {
    "ExecuteTime": {
     "end_time": "2021-09-08T04:55:06.441757Z",
     "start_time": "2021-09-08T04:53:37.187930Z"
    },
    "scrolled": true
   },
   "outputs": [
    {
     "name": "stdout",
     "output_type": "stream",
     "text": [
      "APlus_mTOV_2.0_run_120\n",
      "[1.9532811842390374, 1.9601165990016975, 1.9743307053020267, 1.9982876277298234, 2.028869212914245, 2.0607377705533825, 2.0852214714505957]\n",
      "APlus_mTOV_2.0_run_120_2component\n",
      "[1.8950155480618727, 1.9121533883558592, 1.927841377405372, 1.9556899009475022, 1.9852754327737863, 2.0127883589581974, 2.0380353504025166]\n",
      "APlus_mTOV_2.0_run_120_2c_bias\n",
      "[2.734558997137636, 2.772456731529322, 2.8306883901905935, 3.026249899024414, 3.3828418719519675, 3.4861033733824276, 3.498033138813864]\n",
      "APlus_mTOV_2.0_run_120_uniform\n",
      "[1.974822532314874, 1.9803873921712396, 1.9897867032524135, 2.0015249905051578, 2.0148187705696494, 2.0237962291762175, 2.0316278676094846]\n",
      "APlus_mTOV_2.0_run_120_u_bias\n",
      "[2.897855507283264, 2.897855507283264, 2.89924678729131, 2.901167178781634, 2.904211975871724, 2.9065082212133673, 2.9065082212133673]\n",
      "APlus_mTOV_2.0_run_150\n",
      "[1.9590705699166395, 1.9699235234402337, 1.9854972397915676, 2.014498850092767, 2.0355669727201664, 2.069298856873518, 2.0920259619345862]\n",
      "APlus_mTOV_2.0_run_150_2component\n",
      "[1.8989686076605883, 1.9131390924889609, 1.926439035190479, 1.9487031535019097, 1.9742483768183245, 2.004036209448972, 2.01908000834543]\n",
      "APlus_mTOV_2.0_run_150_2c_bias\n",
      "[2.7342484246986642, 2.7895572466664587, 2.8577236184273613, 3.10584184443199, 3.4010566002578386, 3.489212869951562, 3.498977435988809]\n",
      "APlus_mTOV_2.0_run_150_uniform\n",
      "[1.974691056524667, 1.9804544818598389, 1.9890679258263977, 2.000739604514585, 2.0140665355327942, 2.0224497427099464, 2.031206388584336]\n",
      "APlus_mTOV_2.0_run_150_u_bias\n",
      "[3.1914178864085345, 3.1914178864085345, 3.197211978606191, 3.2025583513806106, 3.2041204546104765, 3.2058829465464442, 3.2058829465464442]\n",
      "APlus_mTOV_2.0_run_30\n",
      "[1.857458179094043, 1.8879694105730884, 1.9261782926905264, 1.9787539865911419, 2.0474387410300405, 2.1406923098049337, 2.235386590155478]\n",
      "APlus_mTOV_2.0_run_30_2component\n",
      "[1.8322296022721392, 1.8621352903254358, 1.9085102272037753, 1.9629936996841892, 2.034960165510022, 2.1302163854873726, 2.258240183559762]\n",
      "APlus_mTOV_2.0_run_30_2c_bias\n",
      "[1.987492446867772, 1.987492446867772, 1.99561285595769, 2.0017123711551816, 2.012006587163263, 2.0178829958889364, 2.0178829958889364]\n",
      "APlus_mTOV_2.0_run_30_uniform\n",
      "[1.9385856219549278, 1.957755300370132, 1.9818709849262492, 2.009303330089168, 2.0311200629475645, 2.060909358105433, 2.0804450363691944]\n",
      "APlus_mTOV_2.0_run_30_u_bias\n",
      "[2.019022728545769, 2.0301299782766056, 2.04610577755774, 2.063892605493524, 2.089923209772254, 2.1232383890336943, 2.1460687926782147]\n",
      "APlus_mTOV_2.0_run_60\n",
      "[1.9129462693745916, 1.9368050570064304, 1.9636069343260603, 2.0030389973925726, 2.0392059606725117, 2.0812123461360135, 2.122823870396806]\n",
      "APlus_mTOV_2.0_run_60_2component\n",
      "[1.8831506997434537, 1.913066699233967, 1.9403388293973292, 1.9770104631537448, 2.01330007053253, 2.0596416011807643, 2.097848467221834]\n",
      "APlus_mTOV_2.0_run_60_2c_bias\n",
      "[2.2834727569124618, 2.2834727569124618, 2.2927902550103094, 2.3016945508437843, 2.306134538186732, 2.309338034987848, 2.309338034987848]\n",
      "APlus_mTOV_2.0_run_60_uniform\n",
      "[1.935420315222743, 1.9495304064645351, 1.968278601604899, 2.0035508378691738, 2.0211757371884356, 2.042798359579041, 2.0631366117715926]\n",
      "APlus_mTOV_2.0_run_60_u_bias\n",
      "[2.2903070267732444, 2.2903070267732444, 2.2914577711444504, 2.301873253251311, 2.3049543474093674, 2.311287685747384, 2.311287685747384]\n",
      "APlus_mTOV_2.0_run_90\n",
      "[1.9078209129873671, 1.925349688514949, 1.9458003309948073, 1.970341818283646, 2.006184922468104, 2.0381751185118215, 2.07751513072519]\n",
      "APlus_mTOV_2.0_run_90_2component\n",
      "[1.8917688700585162, 1.9139893415617482, 1.9330781209637036, 1.9606309776725164, 1.9929965503363527, 2.0187914280834485, 2.0491676277427855]\n",
      "APlus_mTOV_2.0_run_90_2c_bias\n",
      "[2.5836000475587757, 2.5836000475587757, 2.5948802703270726, 2.598156050009877, 2.6052138524240576, 2.6075188847996658, 2.6075188847996658]\n",
      "APlus_mTOV_2.0_run_90_uniform\n",
      "[1.9393643054941356, 1.9523561080181309, 1.9688647143072182, 1.9937524593819647, 2.015022830672569, 2.025350596108693, 2.040489571400923]\n",
      "APlus_mTOV_2.0_run_90_u_bias\n",
      "[2.595378520032741, 2.595378520032741, 2.5954422836385143, 2.5998821186050756, 2.602978948681917, 2.6095803534828406, 2.6095803534828406]\n",
      "APlus_mTOV_2.2_run_120\n",
      "[2.137561134653256, 2.1645889179513196, 2.189100401756189, 2.2165871203083523, 2.256156981408074, 2.28823526638122, 2.3245912301924676]\n",
      "APlus_mTOV_2.2_run_120_2component\n",
      "[2.1467919284364614, 2.178916657479201, 2.2007121359699355, 2.2272694574877607, 2.260304206326738, 2.2959319927593658, 2.3407352717269796]\n",
      "APlus_mTOV_2.2_run_120_2c_bias\n",
      "[2.71702790952911, 2.7429004326760733, 2.8418207021962947, 3.117838831007171, 3.3952613672705225, 3.4840189099593823, 3.4967731453743025]\n",
      "APlus_mTOV_2.2_run_120_uniform\n",
      "[2.144644484599158, 2.1538127736263175, 2.166073771217771, 2.1848823869838165, 2.2011140223824426, 2.224678182657933, 2.246699020023284]\n",
      "APlus_mTOV_2.2_run_120_u_bias\n",
      "[3.092585887687917, 3.092585887687917, 3.0953588852974936, 3.1018459334406137, 3.1050306057844295, 3.1073033738633433, 3.1073033738633433]\n",
      "APlus_mTOV_2.2_run_150\n",
      "[2.1298672108557977, 2.146057501746268, 2.174099318480807, 2.201408632439988, 2.224115595788373, 2.2633849413616387, 2.2891283724083906]\n",
      "APlus_mTOV_2.2_run_150_2component\n",
      "[2.1326232956372793, 2.1672100323008285, 2.1898298405998595, 2.2134185854258903, 2.241907112764296, 2.2693936924065623, 2.299120007320697]\n",
      "APlus_mTOV_2.2_run_150_2c_bias\n",
      "[2.756482245084828, 2.7877663858853783, 2.8941043028766846, 3.1654178060163973, 3.3618252029990034, 3.471345011544491, 3.4949276040519552]\n",
      "APlus_mTOV_2.2_run_150_uniform\n",
      "[2.142359203234178, 2.1474937363348445, 2.1555027956977852, 2.172642262150719, 2.193522481128744, 2.2094614168439017, 2.2359542005962845]\n",
      "APlus_mTOV_2.2_run_150_u_bias\n",
      "[3.392103920530357, 3.392103920530357, 3.3972558916317475, 3.402569467852222, 3.407302659517857, 3.4086213426830754, 3.408621342683075]\n",
      "APlus_mTOV_2.2_run_30\n",
      "[2.069912883138318, 2.100710606231305, 2.1429370567858634, 2.2090889194278516, 2.313507614393415, 2.6759946841513234, 3.1593418766175594]\n",
      "APlus_mTOV_2.2_run_30_2component\n",
      "[2.1215525144663405, 2.168823001565568, 2.2135500990707673, 2.2475821927472266, 2.3045958790371364, 2.3708298783435025, 2.5077119371004795]\n",
      "APlus_mTOV_2.2_run_30_2c_bias\n",
      "[2.2722499996100627, 2.3094096646708646, 2.3623929091873523, 2.4358062385622343, 2.7486626630673143, 3.415464575791531, 3.4882206282651813]\n",
      "APlus_mTOV_2.2_run_30_uniform\n",
      "[2.0840128100188067, 2.1065082659888015, 2.131484549557582, 2.1643396776801724, 2.200168775252493, 2.2441230813914204, 2.281119560942963]\n",
      "APlus_mTOV_2.2_run_30_u_bias\n",
      "[2.1871369956858357, 2.1871369956858357, 2.190525422019723, 2.1980686523241655, 2.2089525227871407, 2.2231388781280828, 2.2231388781280828]\n",
      "APlus_mTOV_2.2_run_60\n",
      "[2.113772199690608, 2.158980299982721, 2.1928895194273594, 2.23674880517298, 2.2930925178305612, 2.395395295440203, 2.480590386297545]\n",
      "APlus_mTOV_2.2_run_60_2component\n",
      "[2.1053744632057056, 2.14637323218026, 2.1853909399613154, 2.22030237997228, 2.2656341895631233, 2.3165181825974543, 2.392394112752795]\n",
      "APlus_mTOV_2.2_run_60_2c_bias\n",
      "[2.4869603111798435, 2.4869603111798435, 2.4942596788417, 2.5001984895247666, 2.50539185219787, 2.509576546061648, 2.509576546061648]\n",
      "APlus_mTOV_2.2_run_60_uniform\n",
      "[2.106278473902834, 2.120739844455422, 2.14153880331132, 2.162316752504359, 2.1873165106473236, 2.2177428982334093, 2.254222769881986]\n",
      "APlus_mTOV_2.2_run_60_u_bias\n",
      "[2.4889015838243047, 2.4889015838243047, 2.4929634090655126, 2.4995395124429516, 2.505682998636736, 2.5105492127470046, 2.5105492127470046]\n",
      "APlus_mTOV_2.2_run_90\n",
      "[2.113722182951162, 2.1484567709433997, 2.1830997729707686, 2.2178230490380075, 2.269907538498818, 2.3406479735436223, 2.4444575518674085]\n",
      "APlus_mTOV_2.2_run_90_2component\n",
      "[2.1014931295726447, 2.1386717793095533, 2.1826880882658157, 2.2164048802646628, 2.251412964988968, 2.3037572321371003, 2.3734383823320044]\n",
      "APlus_mTOV_2.2_run_90_2c_bias\n",
      "[2.7060069198679386, 2.7275314975181786, 2.7598847799283153, 2.85316622946583, 3.108753313611884, 3.4117140545752607, 3.4874276865692417]\n",
      "APlus_mTOV_2.2_run_90_uniform\n",
      "[2.1084783321133966, 2.1212725793931813, 2.139514278382088, 2.153729318988777, 2.179103874510292, 2.203245204984936, 2.2211650876999136]\n",
      "APlus_mTOV_2.2_run_90_u_bias\n"
     ]
    },
    {
     "name": "stdout",
     "output_type": "stream",
     "text": [
      "[2.789552663942419, 2.789552663942419, 2.7947159156180086, 2.7983075992801334, 2.802913130136858, 2.804743193527719, 2.8047431935277194]\n",
      "Design_mTOV_2.0_run_10\n",
      "[1.8258542713856831, 1.8662017094082406, 1.9163956666939412, 1.9920197065579626, 2.121975268918593, 2.3819438123937187, 3.0381875439159436]\n",
      "Design_mTOV_2.0_run_10_2component\n",
      "[1.8019877539341895, 1.8328571678023182, 1.8717973157982002, 1.9506710912661733, 2.0716528567661654, 2.2735332313211005, 2.787758045425996]\n",
      "Design_mTOV_2.0_run_10_2c_bias\n",
      "[1.9584526118395646, 1.9584526118395646, 1.9881125269022544, 2.0035595416075416, 2.015931550272623, 2.0281537877722866, 2.0281537877722866]\n",
      "Design_mTOV_2.0_run_10_uniform\n",
      "[1.823461131550817, 1.859053580219355, 1.9002047469346448, 1.952598162357743, 2.0136786790336556, 2.0926219815647875, 2.1739955635496346]\n",
      "Design_mTOV_2.0_run_10_u_bias\n",
      "[2.053031808495679, 2.0783715206461952, 2.108398031725137, 2.15232468528101, 2.217604232720575, 2.3232185771293925, 2.4336083414174072]\n",
      "Design_mTOV_2.0_run_20\n",
      "[1.8137115431351845, 1.84455574444919, 1.8955231343933674, 1.950388106382463, 2.0174940680249223, 2.1004978267940513, 2.182821440496913]\n",
      "Design_mTOV_2.0_run_20_2component\n",
      "[1.8323057512118688, 1.874645830556393, 1.9201578158791697, 1.977644530954147, 2.0391412482471676, 2.134056647015238, 2.2013611534944997]\n",
      "Design_mTOV_2.0_run_20_2c_bias\n",
      "[2.24564500642755, 2.2629183504569395, 2.291214803464351, 2.353725466254344, 2.529168182371402, 3.2441913818694554, 3.4595438835500083]\n",
      "Design_mTOV_2.0_run_20_uniform\n",
      "[1.8556235634460019, 1.8855851923636653, 1.9351465139478876, 1.9742660496152937, 2.013470952260515, 2.0614657991599987, 2.1069174885677784]\n",
      "Design_mTOV_2.0_run_20_u_bias\n",
      "[2.291197798410198, 2.291197798410198, 2.293644949299136, 2.3073772447573786, 2.309792940902116, 2.323820842209306, 2.323820842209306]\n",
      "Design_mTOV_2.0_run_30\n",
      "[1.8998330977279194, 1.9292187943038908, 1.9604189058249928, 1.9982801785054582, 2.0407834902410413, 2.0963543425018516, 2.154574189885736]\n",
      "Design_mTOV_2.0_run_30_2component\n",
      "[1.8872077784483783, 1.915669560037381, 1.9547356873022292, 2.0043765403032694, 2.0718661511404446, 2.1544630456114446, 2.2314671693147354]\n",
      "Design_mTOV_2.0_run_30_2c_bias\n",
      "[2.434159793601294, 2.4988784170573233, 2.5606463498410212, 2.730820671958608, 3.2891126665835975, 3.469619822902395, 3.4971757316545773]\n",
      "Design_mTOV_2.0_run_30_uniform\n",
      "[1.8627284635775483, 1.8907240866155162, 1.9279052589348629, 1.9593320568493338, 1.9915200759359728, 2.02781199064166, 2.058184065813223]\n",
      "Design_mTOV_2.0_run_30_u_bias\n",
      "[2.582284990893007, 2.582284990893007, 2.587881830414221, 2.6011830977740233, 2.607246643364444, 2.6101926200724583, 2.6101926200724583]\n",
      "Design_mTOV_2.0_run_40\n",
      "[1.9267238608131567, 1.958615922742138, 1.9933202479798584, 2.02662761073912, 2.075707707994116, 2.13879934895499, 2.214509228944425]\n",
      "Design_mTOV_2.0_run_40_2component\n",
      "[1.8786055926382286, 1.8988642716537099, 1.9298638392939331, 1.9692203862913413, 2.0219957311181003, 2.072438204030452, 2.152657323164052]\n",
      "Design_mTOV_2.0_run_40_2c_bias\n",
      "[2.4472270173208033, 2.499330454911904, 2.5499171604959363, 2.789835665856964, 3.2345650787584628, 3.4465634047083396, 3.4906574642484856]\n",
      "Design_mTOV_2.0_run_40_uniform\n",
      "[1.868098789650039, 1.8863848673697001, 1.9153690610947314, 1.950283983873428, 1.9805366592230007, 2.012479239678816, 2.042447231490307]\n",
      "Design_mTOV_2.0_run_40_u_bias\n",
      "[2.809237751635651, 2.844052312368139, 2.8719044946734034, 2.9163957698401233, 3.3179959284713365, 3.465655057602759, 3.4960800707429343]\n",
      "Design_mTOV_2.0_run_50\n",
      "[1.9377856697715736, 1.962681853066395, 1.9879296779256759, 2.0173787651391892, 2.048218161810357, 2.10055969045075, 2.1401161130015844]\n",
      "Design_mTOV_2.0_run_50_2component\n",
      "[1.8847638062709509, 1.904112648068188, 1.9296863078763626, 1.9747166657986288, 2.0161278203211945, 2.0539513131202685, 2.1004241867834454]\n",
      "Design_mTOV_2.0_run_50_2c_bias\n",
      "[2.6193900844578066, 2.823333957123974, 3.0830362446145636, 3.343163916333981, 3.467565592062754, 3.4959385523950743, 3.499394041447121]\n",
      "Design_mTOV_2.0_run_50_uniform\n",
      "[1.9295104861341374, 1.9453816664689745, 1.9610733936079912, 1.9779541401593659, 2.0048682243058913, 2.033004071527353, 2.0697527893590157]\n",
      "Design_mTOV_2.0_run_50_u_bias\n",
      "[3.1908950213039584, 3.1908950213039584, 3.1939940250752104, 3.20159417531187, 3.2057588211339985, 3.2089123342665418, 3.208912334266542]\n",
      "Design_mTOV_2.2_run_10\n",
      "[1.9579149249024885, 1.9910093889718636, 2.0518145279726827, 2.1534281798812738, 2.344207788650651, 2.869187410103271, 3.1198443814266845]\n",
      "Design_mTOV_2.2_run_10_2component\n",
      "[2.0865629264395458, 2.1376898648163656, 2.2306626462250145, 2.350993185980963, 2.7118130719544036, 3.149341054338442, 3.1964108865147622]\n",
      "Design_mTOV_2.2_run_10_2c_bias\n",
      "[2.1834702109486512, 2.1834702109486512, 2.1958828637515917, 2.201870838526686, 2.223285271290903, 2.2425942027280246, 2.2425942027280246]\n",
      "Design_mTOV_2.2_run_10_uniform\n",
      "[2.0536121138480605, 2.091241177876589, 2.1339848651025353, 2.1999069265641493, 2.2795807437269966, 2.354511069589258, 2.4313461044691853]\n",
      "Design_mTOV_2.2_run_10_u_bias\n",
      "[2.1679648355051957, 2.1679648355051957, 2.1772571219065604, 2.1927652588940507, 2.214163082471675, 2.219623306727565, 2.219623306727565]\n",
      "Design_mTOV_2.2_run_20\n",
      "[1.9755318520035168, 2.013968758575501, 2.066779939873425, 2.1150082299418274, 2.1876898522969146, 2.3236914258316483, 2.437979291135809]\n",
      "Design_mTOV_2.2_run_20_2component\n",
      "[2.099901823618289, 2.1554751166302304, 2.2399834454795307, 2.3500548398299177, 2.6074312036937717, 3.0873546446113522, 3.1831645705780405]\n",
      "Design_mTOV_2.2_run_20_2c_bias\n",
      "[2.4906178334595204, 2.517566779649317, 2.5612704154839845, 2.657949349433496, 2.89290181870222, 3.264797829331638, 3.4749606844315393]\n",
      "Design_mTOV_2.2_run_20_uniform\n",
      "[2.0856356812987276, 2.1168928112676446, 2.1506057286591806, 2.2040909349184465, 2.2585508099470695, 2.312345069439159, 2.359411264100714]\n",
      "Design_mTOV_2.2_run_20_u_bias\n",
      "[2.485464573806875, 2.485464573806875, 2.4890836986955667, 2.4978164434644206, 2.509703766337636, 2.5171575108134987, 2.5171575108134987]\n",
      "Design_mTOV_2.2_run_30\n",
      "[1.9696604204859307, 1.993860012259947, 2.037006875586263, 2.090377659308485, 2.157892193626442, 2.260545580509009, 2.371419769742382]\n",
      "Design_mTOV_2.2_run_30_2component\n",
      "[2.09395021908754, 2.131291625827331, 2.174443361950782, 2.237791547900627, 2.3090268992187224, 2.4261897472537806, 2.565621247558014]\n",
      "Design_mTOV_2.2_run_30_2c_bias\n",
      "[2.489920272254297, 2.5239182720472715, 2.588612160493142, 2.733680719273905, 3.14656344761669, 3.431216884981092, 3.484835764117489]\n",
      "Design_mTOV_2.2_run_30_uniform\n",
      "[2.1152138536359897, 2.1415607278035442, 2.172824958258769, 2.2129795049639887, 2.2595365816299893, 2.3048707808087734, 2.3489007837758558]\n",
      "Design_mTOV_2.2_run_30_u_bias\n",
      "[2.7908298649958643, 2.801496457426211, 2.8308375843514266, 2.8686812108408013, 2.9467294470913385, 3.378453136945126, 3.4786974715235917]\n",
      "Design_mTOV_2.2_run_40\n",
      "[1.9871543538588874, 2.0325710103366346, 2.074423813718618, 2.123013790184636, 2.1732947564708542, 2.2537125032129106, 2.3409691567326587]\n",
      "Design_mTOV_2.2_run_40_2component\n",
      "[2.1026895662626774, 2.13945658073756, 2.19262253342218, 2.2568338801541694, 2.3408192750389687, 2.5000779579123553, 2.642421148138137]\n",
      "Design_mTOV_2.2_run_40_2c_bias\n",
      "[2.5127970477831854, 2.5672787471354637, 2.6597868688442374, 2.9261979268893943, 3.2381950669321267, 3.4629563379052373, 3.4958611526004524]\n",
      "Design_mTOV_2.2_run_40_uniform\n",
      "[2.1230306428925423, 2.1498429270489283, 2.1803955540758744, 2.218474711102162, 2.2656827134699906, 2.304832929544497, 2.338439565264907]\n",
      "Design_mTOV_2.2_run_40_u_bias\n",
      "[3.1799256205200526, 3.225559696925402, 3.3005998383450024, 3.40783946490204, 3.474000591959659, 3.4968612194466187, 3.4996708817156508]\n",
      "Design_mTOV_2.2_run_50\n",
      "[2.08090913803845, 2.1035035038162353, 2.1292150523488123, 2.167435826590554, 2.2185841376269795, 2.2750111473701815, 2.3608952784622623]\n",
      "Design_mTOV_2.2_run_50_2component\n",
      "[2.093338805044617, 2.1275197430443873, 2.1658630889810917, 2.226849592016783, 2.303777190728024, 2.4390680693550655, 2.8364603327984144]\n",
      "Design_mTOV_2.2_run_50_2c_bias\n",
      "[2.831323159727182, 2.9045710760175214, 3.02320152448985, 3.297945377752428, 3.4476774411627336, 3.4918513163953517, 3.49965180600479]\n",
      "Design_mTOV_2.2_run_50_uniform\n"
     ]
    },
    {
     "name": "stdout",
     "output_type": "stream",
     "text": [
      "[2.116029522334046, 2.1335345618134043, 2.159680186081446, 2.2025559341295486, 2.2360870372645927, 2.2852533827107933, 2.314929099131998]\n",
      "Design_mTOV_2.2_run_50_u_bias\n",
      "[3.3877781347366267, 3.3877781347366267, 3.3930551034095733, 3.4024584509975706, 3.4105166490782026, 3.4204280798736706, 3.4204280798736706]\n"
     ]
    }
   ],
   "source": [
    "import os\n",
    "for i in os.listdir('../spin_results/mTOV_convergence/'):\n",
    "    if 'likes' not in i and os.path.isfile(os.path.join('../spin_results/mTOV_convergence/',i)) and 'slope' not in i:\n",
    "        root = i.split('.txt')[0]\n",
    "        print(root)\n",
    "        if '2c' in root:\n",
    "            real = np.genfromtxt('../spin_results/mTOV_convergence/{}.txt'.format(root))\n",
    "            likes = np.genfromtxt('../spin_results/mTOV_convergence/{}_likes.txt'.format(root))\n",
    "            constraints = get_constraints(real[:,5], 'mTOV/{}.txt'.format(root), folder='mTOV_convergence')\n",
    "            print(constraints)\n",
    "        else:\n",
    "            real = np.genfromtxt('../spin_results/mTOV_convergence/{}.txt'.format(root))\n",
    "            likes = np.genfromtxt('../spin_results/mTOV_convergence/{}_likes.txt'.format(root))\n",
    "            constraints = get_constraints(real[:,2], 'mTOV/{}.txt'.format(root), folder='mTOV_convergence')\n",
    "            print(constraints)"
   ]
  },
  {
   "cell_type": "code",
   "execution_count": 42,
   "metadata": {
    "ExecuteTime": {
     "end_time": "2021-09-08T01:01:53.679374Z",
     "start_time": "2021-09-08T01:01:45.762938Z"
    },
    "scrolled": true
   },
   "outputs": [],
   "source": [
    "root='1c_default_chieff_withgw190814_nogw190426_0q'\n",
    "real = np.genfromtxt('../spin_results/real_data/{}.txt'.format(root))\n",
    "likes = np.genfromtxt('../spin_results/real_data/{}_likes.txt'.format(root))"
   ]
  },
  {
   "cell_type": "code",
   "execution_count": 43,
   "metadata": {
    "ExecuteTime": {
     "end_time": "2021-09-08T01:01:55.850535Z",
     "start_time": "2021-09-08T01:01:53.684547Z"
    },
    "scrolled": false
   },
   "outputs": [
    {
     "data": {
      "text/plain": [
       "[1.0422739125598006,\n",
       " 1.5607803607721096,\n",
       " 2.2164642303238056,\n",
       " 3.2120773100390863,\n",
       " 4.6925588366207585,\n",
       " 6.621900124900308,\n",
       " 8.551942697435534]"
      ]
     },
     "execution_count": 43,
     "metadata": {},
     "output_type": "execute_result"
    },
    {
     "data": {
      "image/png": "[encoded data removed]",
      "text/plain": [
       "<Figure size 547.2x547.2 with 9 Axes>"
      ]
     },
     "metadata": {
      "needs_background": "light"
     },
     "output_type": "display_data"
    }
   ],
   "source": [
    "corner.corner(real[real[:,5]<=1][:,2:5], plot_datapoints=False); #[real[:,5]<=1][real[:,5]>0.985]\n",
    "get_constraints(real[real[:,5]<=1][:,2], 'mTOV/{}.txt'.format(root))\n",
    "get_constraints(real[real[:,5]<=1][:,3], 'bhmin/{}.txt'.format(root))\n",
    "get_constraints(real[real[:,5]<=1][:,4], 'bhslope/{}.txt'.format(root))\n"
   ]
  },
  {
   "cell_type": "code",
   "execution_count": 44,
   "metadata": {
    "ExecuteTime": {
     "end_time": "2021-09-08T01:02:37.985810Z",
     "start_time": "2021-09-08T01:02:36.873817Z"
    }
   },
   "outputs": [
    {
     "data": {
      "text/plain": [
       "[-1.5346665384657117,\n",
       " -0.3246879278892532,\n",
       " 1.6343762733212452,\n",
       " 3.0252781390954104,\n",
       " 3.918333189124443,\n",
       " 4.616020020894091,\n",
       " 5.09260377572132]"
      ]
     },
     "execution_count": 44,
     "metadata": {},
     "output_type": "execute_result"
    },
    {
     "data": {
      "image/png": "[encoded data removed]",
      "text/plain": [
       "<Figure size 432x288 with 1 Axes>"
      ]
     },
     "metadata": {
      "needs_background": "light"
     },
     "output_type": "display_data"
    }
   ],
   "source": [
    "massgap = real[real[:,5]<=1][:,3]-real[real[:,5]<=1][:,2]\n",
    "hist = plt.hist(massgap, histtype='step', color='k', density=True, bins=30)\n",
    "plt.title('Mass Gap Width')\n",
    "plt.xlabel('width ($M_\\odot$)')\n",
    "get_constraints(massgap, 'massgap/{}.txt'.format(root))"
   ]
  },
  {
   "cell_type": "code",
   "execution_count": 231,
   "metadata": {},
   "outputs": [],
   "source": [
    "real = real[:,[5,6]]"
   ]
  },
  {
   "cell_type": "code",
   "execution_count": 234,
   "metadata": {},
   "outputs": [],
   "source": [
    "likes = likes[np.argsort(real[:,0])]\n",
    "real = real[np.argsort(real[:,0])]"
   ]
  },
  {
   "cell_type": "code",
   "execution_count": 235,
   "metadata": {},
   "outputs": [
    {
     "data": {
      "text/plain": [
       "[<matplotlib.lines.Line2D at 0x7fc94ae84990>]"
      ]
     },
     "execution_count": 235,
     "metadata": {},
     "output_type": "execute_result"
    },
    {
     "data": {
      "image/png": "[encoded data removed]",
      "text/plain": [
       "<Figure size 432x288 with 1 Axes>"
      ]
     },
     "metadata": {
      "needs_background": "light"
     },
     "output_type": "display_data"
    }
   ],
   "source": [
    "plt.plot(real[:,0], np.exp(likes))"
   ]
  },
  {
   "cell_type": "code",
   "execution_count": 107,
   "metadata": {
    "ExecuteTime": {
     "end_time": "2021-08-04T20:10:20.136425Z",
     "start_time": "2021-08-04T20:10:20.125453Z"
    }
   },
   "outputs": [],
   "source": [
    "def get_constraints_2c(counts, mTOV, hist=False, detector=\"APlus\", folder = 'mTOV_convergence'):\n",
    "    constraints = np.zeros((len(counts), 7))\n",
    "    for i in range(len(counts)):\n",
    "        run_name = '/{}_mTOV_{}_run_{}_2component.txt'.format(detector, mTOV, counts[i])\n",
    "        sigma_1 = get_quantiles(run_name, 5, [0.159, 0.841],hist=hist, folder=folder)\n",
    "        sigma_2 = get_quantiles(run_name, 5, [0.025, 0.975], folder=folder)\n",
    "        sigma_3 = get_quantiles(run_name, 5, [0.0015, 0.997], folder=folder)\n",
    "        med = get_quantiles(run_name, 5, [0.5], folder=folder)\n",
    "        constraints[i] = [sigma_3[0], sigma_2[0], sigma_1[0], med[0], sigma_1[1], sigma_2[1], sigma_3[1]]\n",
    "    np.savetxt('../spin_results/outputs/{}/{}_mTOV_2C_{}.txt'.format(folder, detector, mTOV), constraints)\n",
    "    return constraints"
   ]
  },
  {
   "cell_type": "code",
   "execution_count": 108,
   "metadata": {
    "ExecuteTime": {
     "end_time": "2021-08-04T20:10:23.060981Z",
     "start_time": "2021-08-04T20:10:23.049441Z"
    }
   },
   "outputs": [],
   "source": [
    "def get_constraints_u(counts, mTOV, hist=False, detector=\"APlus\", folder = 'mTOV_convergence'):\n",
    "    constraints = np.zeros((len(counts), 7))\n",
    "    for i in range(len(counts)):\n",
    "        run_name = '/{}_mTOV_{}_run_{}_uniform.txt'.format(detector, mTOV, counts[i])\n",
    "        sigma_1 = get_quantiles(run_name, 2, [0.159, 0.841],hist=hist, folder=folder)\n",
    "        sigma_2 = get_quantiles(run_name, 2, [0.025, 0.975], folder=folder)\n",
    "        sigma_3 = get_quantiles(run_name, 2, [0.0015, 0.997], folder=folder)\n",
    "        med = get_quantiles(run_name, 2, [0.5], folder=folder)\n",
    "        constraints[i] = [sigma_3[0], sigma_2[0], sigma_1[0], med[0], sigma_1[1], sigma_2[1], sigma_3[1]]\n",
    "    np.savetxt('../spin_results/outputs/{}/{}_mTOV_u_{}.txt'.format(folder, detector, mTOV), constraints)\n",
    "    return constraints"
   ]
  },
  {
   "cell_type": "code",
   "execution_count": 46,
   "metadata": {
    "ExecuteTime": {
     "end_time": "2021-09-08T01:03:34.578411Z",
     "start_time": "2021-09-08T01:03:34.457597Z"
    }
   },
   "outputs": [],
   "source": [
    "def plot_constraints(constraints, counts, color='b'):\n",
    "    # plt.fill_between(counts, constraints[:,0], constraints[:,6], color='b', alpha=0.1, label = '$3\\sigma$')\n",
    "    plt.fill_between(counts, constraints[:,1], constraints[:,5], color=color, alpha=0.2, label = '$2\\sigma$')\n",
    "    plt.fill_between(counts, constraints[:,2], constraints[:,4], color=color, alpha=0.3, label = '$1\\sigma$')\n",
    "    plt.plot(counts, constraints[:,3], c='k')\n",
    "    plt.scatter(counts, constraints[:,3], c='k', s=30)\n",
    "    plt.legend()"
   ]
  },
  {
   "cell_type": "code",
   "execution_count": 10,
   "metadata": {
    "ExecuteTime": {
     "end_time": "2021-08-04T20:21:37.225224Z",
     "start_time": "2021-08-04T20:21:37.215916Z"
    }
   },
   "outputs": [],
   "source": [
    "def calc_convergence(file, counts=np.linspace(10,50,5,dtype='int16'), plot=True):\n",
    "    constraints = np.genfromtxt(file)\n",
    "    sig3 = constraints[:,-1]-constraints[:,0]\n",
    "    sig2 = constraints[:,-2]-constraints[:,1]\n",
    "    sig1 = constraints[:,-3]-constraints[:,2]\n",
    "    if plot:\n",
    "        plt.plot(counts, sig3, label='3$\\sigma$')\n",
    "        plt.plot(counts, sig2, label='2$\\sigma$')\n",
    "        plt.plot(counts, sig1, label='1$\\sigma$')\n",
    "        plt.yscale('log')\n",
    "        plt.xscale('log')\n",
    "    p = np.polyfit(x=np.log(counts), y=np.log(sig1), deg=1)\n",
    "    print(p)"
   ]
  },
  {
   "cell_type": "code",
   "execution_count": null,
   "metadata": {
    "ExecuteTime": {
     "end_time": "2021-08-04T20:12:25.122214Z",
     "start_time": "2021-08-04T20:12:14.648582Z"
    },
    "scrolled": true
   },
   "outputs": [],
   "source": [
    "constraints = get_constraints_1c(counts=np.linspace(10,50,5,dtype='int16'), mTOV=2.0, hist=False, detector=\"Design\")"
   ]
  },
  {
   "cell_type": "code",
   "execution_count": null,
   "metadata": {
    "ExecuteTime": {
     "end_time": "2021-09-08T04:50:16.576272Z",
     "start_time": "2021-09-08T04:50:16.501341Z"
    }
   },
   "outputs": [],
   "source": [
    "constraints = np.genfromtxt('/mnt/c/users/christine/gwcosmology/spin_results/outputs/lowspin/APlus_mTOV_1C_2.0.txt')\n",
    "constraints2 = np.genfromtxt('/mnt/c/users/christine/gwcosmology/spin_results/outputs/highspin/APlus_mTOV_1C_2.0.txt')\n",
    "plot_constraints(constraints, counts=np.linspace(10,50,5,dtype='int16'))\n",
    "plot_constraints(constraints2, counts=np.linspace(10,50,5,dtype='int16'), color='r')\n",
    "plt.ylabel('$M_{TOV}$')\n",
    "plt.xlabel('Event Count')"
   ]
  },
  {
   "cell_type": "code",
   "execution_count": 399,
   "metadata": {
    "ExecuteTime": {
     "end_time": "2021-07-21T21:06:45.654006Z",
     "start_time": "2021-07-21T21:06:45.647270Z"
    }
   },
   "outputs": [],
   "source": [
    "f = h5py.File('./results/spinning_test_run.h5', 'r')\n"
   ]
  },
  {
   "cell_type": "code",
   "execution_count": 11,
   "metadata": {
    "ExecuteTime": {
     "end_time": "2021-07-22T17:03:03.152393Z",
     "start_time": "2021-07-22T17:03:02.876778Z"
    }
   },
   "outputs": [
    {
     "name": "stdout",
     "output_type": "stream",
     "text": [
      "/mnt/c/users/christine/gwcosmology/spin!!\r\n"
     ]
    }
   ],
   "source": [
    "!pwd"
   ]
  },
  {
   "cell_type": "code",
   "execution_count": 139,
   "metadata": {
    "ExecuteTime": {
     "end_time": "2021-07-23T02:48:31.719150Z",
     "start_time": "2021-07-23T02:48:30.909415Z"
    },
    "scrolled": true
   },
   "outputs": [],
   "source": [
    "samples = np.genfromtxt('/mnt/c/users/christine/gwcosmology/spin_results/mTOV_convergence/mTOV_2_run_50_2component.txt')\n",
    "likes = np.genfromtxt('/mnt/c/users/christine/gwcosmology/spin_results/mTOV_convergence/mTOV_2_run_50_2component_likes.txt')\n"
   ]
  },
  {
   "cell_type": "code",
   "execution_count": 140,
   "metadata": {
    "ExecuteTime": {
     "end_time": "2021-07-23T02:48:32.484291Z",
     "start_time": "2021-07-23T02:48:32.181731Z"
    }
   },
   "outputs": [
    {
     "data": {
      "text/plain": [
       "[<matplotlib.lines.Line2D at 0x7f2c6266e7d0>]"
      ]
     },
     "execution_count": 140,
     "metadata": {},
     "output_type": "execute_result"
    },
    {
     "data": {
      "image/png": "[encoded data removed]",
      "text/plain": [
       "<Figure size 432x288 with 1 Axes>"
      ]
     },
     "metadata": {
      "needs_background": "light"
     },
     "output_type": "display_data"
    }
   ],
   "source": [
    "plt.plot(samples[:,5][np.argsort(samples[:,5])], np.exp(likes[np.argsort(samples[:,5])]))"
   ]
  },
  {
   "cell_type": "code",
   "execution_count": 138,
   "metadata": {
    "ExecuteTime": {
     "end_time": "2021-07-23T00:46:47.462286Z",
     "start_time": "2021-07-23T00:46:46.981949Z"
    }
   },
   "outputs": [
    {
     "data": {
      "image/png": "[encoded data removed]",
      "text/plain": [
       "<Figure size 432x288 with 1 Axes>"
      ]
     },
     "metadata": {
      "needs_background": "light"
     },
     "output_type": "display_data"
    }
   ],
   "source": [
    "plt.hist(likes)\n",
    "plt.yscale('log')"
   ]
  },
  {
   "cell_type": "code",
   "execution_count": 391,
   "metadata": {
    "ExecuteTime": {
     "end_time": "2021-07-21T21:00:23.344507Z",
     "start_time": "2021-07-21T21:00:23.328599Z"
    }
   },
   "outputs": [
    {
     "data": {
      "text/plain": [
       "<HDF5 dataset \"chain\": shape (20000, 14, 7), type \"<f8\">"
      ]
     },
     "execution_count": 391,
     "metadata": {},
     "output_type": "execute_result"
    }
   ],
   "source": [
    "f['mcmc']['chain']"
   ]
  },
  {
   "cell_type": "code",
   "execution_count": 392,
   "metadata": {
    "ExecuteTime": {
     "end_time": "2021-07-21T21:01:00.407003Z",
     "start_time": "2021-07-21T21:01:00.275183Z"
    }
   },
   "outputs": [],
   "source": [
    "samples = np.array(f['mcmc']['chain']).reshape((280000,7))"
   ]
  },
  {
   "cell_type": "code",
   "execution_count": 441,
   "metadata": {
    "ExecuteTime": {
     "end_time": "2021-07-21T22:03:45.554861Z",
     "start_time": "2021-07-21T22:03:45.542238Z"
    }
   },
   "outputs": [
    {
     "data": {
      "text/plain": [
       "(26600, 7)"
      ]
     },
     "execution_count": 441,
     "metadata": {},
     "output_type": "execute_result"
    }
   ],
   "source": [
    "samples.shape"
   ]
  },
  {
   "cell_type": "code",
   "execution_count": 430,
   "metadata": {
    "ExecuteTime": {
     "end_time": "2021-07-21T21:12:30.467373Z",
     "start_time": "2021-07-21T21:12:30.431391Z"
    }
   },
   "outputs": [
    {
     "data": {
      "text/plain": [
       "-79.30117920083256"
      ]
     },
     "execution_count": 430,
     "metadata": {},
     "output_type": "execute_result"
    }
   ],
   "source": [
    "test.pop_like(pop, [1.4, 0.5, 2, 5, 4, 1.0, 0])"
   ]
  },
  {
   "cell_type": "code",
   "execution_count": 404,
   "metadata": {
    "ExecuteTime": {
     "end_time": "2021-07-21T21:09:30.541700Z",
     "start_time": "2021-07-21T21:09:29.765130Z"
    }
   },
   "outputs": [],
   "source": [
    "pop = np.genfromtxt('./results/pop_samples.txt')"
   ]
  },
  {
   "cell_type": "code",
   "execution_count": 414,
   "metadata": {
    "ExecuteTime": {
     "end_time": "2021-07-21T21:11:31.914992Z",
     "start_time": "2021-07-21T21:11:31.911556Z"
    }
   },
   "outputs": [],
   "source": [
    "test.samples=True"
   ]
  },
  {
   "cell_type": "code",
   "execution_count": 406,
   "metadata": {
    "ExecuteTime": {
     "end_time": "2021-07-21T21:09:32.649083Z",
     "start_time": "2021-07-21T21:09:32.645487Z"
    }
   },
   "outputs": [],
   "source": [
    "pop = pop.reshape((50, 3000, 4))"
   ]
  },
  {
   "cell_type": "code",
   "execution_count": 411,
   "metadata": {
    "ExecuteTime": {
     "end_time": "2021-07-21T21:09:44.458448Z",
     "start_time": "2021-07-21T21:09:43.915434Z"
    },
    "scrolled": false
   },
   "outputs": [
    {
     "data": {
      "image/png": "[encoded data removed]",
      "text/plain": [
       "<Figure size 547.2x547.2 with 9 Axes>"
      ]
     },
     "metadata": {
      "needs_background": "light"
     },
     "output_type": "display_data"
    }
   ],
   "source": [
    "corner.corner(pop[30][:,[0,1,3]]);"
   ]
  },
  {
   "cell_type": "code",
   "execution_count": 111,
   "metadata": {
    "ExecuteTime": {
     "end_time": "2021-07-21T16:13:03.792417Z",
     "start_time": "2021-07-21T16:13:03.493391Z"
    }
   },
   "outputs": [
    {
     "data": {
      "text/plain": [
       "[<matplotlib.lines.Line2D at 0x7f278faaac50>]"
      ]
     },
     "execution_count": 111,
     "metadata": {},
     "output_type": "execute_result"
    },
    {
     "data": {
      "image/png": "[encoded data removed]",
      "text/plain": [
       "<Figure size 432x288 with 1 Axes>"
      ]
     },
     "metadata": {
      "needs_background": "light"
     },
     "output_type": "display_data"
    }
   ],
   "source": [
    "plt.plot(pop[1][::8,1])"
   ]
  },
  {
   "cell_type": "code",
   "execution_count": 19,
   "metadata": {
    "ExecuteTime": {
     "end_time": "2021-07-22T05:08:37.748925Z",
     "start_time": "2021-07-22T05:08:37.739583Z"
    }
   },
   "outputs": [
    {
     "name": "stdout",
     "output_type": "stream",
     "text": [
      "vary slope: False\n",
      "selection: True\n",
      "spinning: False\n",
      "no m1 spin: True\n"
     ]
    }
   ],
   "source": [
    "test = p.Population([1.4, 0.5, 2, 1, 3, 5, 4], 'nsbh_one', False, selection=True, m1_nospin = True, spinning=False, spin_params=[1, 1])"
   ]
  },
  {
   "cell_type": "code",
   "execution_count": 22,
   "metadata": {
    "ExecuteTime": {
     "end_time": "2021-07-22T05:09:13.530115Z",
     "start_time": "2021-07-22T05:09:06.862150Z"
    }
   },
   "outputs": [
    {
     "name": "stdout",
     "output_type": "stream",
     "text": [
      "0.046620046620046623\n"
     ]
    }
   ],
   "source": [
    "pop = test.get_population(20, False)"
   ]
  },
  {
   "cell_type": "code",
   "execution_count": 29,
   "metadata": {
    "ExecuteTime": {
     "end_time": "2021-07-22T05:38:03.844680Z",
     "start_time": "2021-07-22T05:38:00.187882Z"
    }
   },
   "outputs": [
    {
     "name": "stdout",
     "output_type": "stream",
     "text": [
      "[0.07833974 0.07833974 0.         0.03916987] [[5.63400248 1.9079921  0.         0.65292981]\n",
      " [5.51716354 2.01933212 0.         0.59938448]\n",
      " [5.48385806 1.95779149 0.         0.72887748]\n",
      " [5.50410028 2.13916245 0.         0.69504755]\n",
      " [5.63376871 2.14060657 0.         0.65394565]\n",
      " [5.39774097 2.02651705 0.         0.64851758]\n",
      " [5.62380392 2.09724237 0.         0.61743413]\n",
      " [5.56812976 2.13498219 0.         0.75216509]]\n",
      "[0.0820522 0.0820522 0.        0.0410261] [[5.22343734 1.51057667 0.         0.2484339 ]\n",
      " [5.20038618 1.44107147 0.         0.19008616]\n",
      " [5.07586448 1.38133325 0.         0.23647295]\n",
      " [5.10985702 1.33809201 0.         0.280207  ]\n",
      " [5.1964528  1.37867288 0.         0.18934632]\n",
      " [5.25880416 1.43469351 0.         0.23712608]\n",
      " [5.17858939 1.38491933 0.         0.23171454]\n",
      " [5.10770779 1.47073542 0.         0.26577801]]\n"
     ]
    }
   ],
   "source": [
    "pop = test.get_population(2, True)"
   ]
  },
  {
   "cell_type": "code",
   "execution_count": 30,
   "metadata": {
    "ExecuteTime": {
     "end_time": "2021-07-22T05:38:11.855236Z",
     "start_time": "2021-07-22T05:38:05.535629Z"
    }
   },
   "outputs": [
    {
     "name": "stdout",
     "output_type": "stream",
     "text": [
      "[0.09640242 0.09640242 0.         0.04820121] [[6.07511151 1.97636557 0.         0.94532955]\n",
      " [6.1053472  2.0362457  0.         0.9828523 ]\n",
      " [5.92715817 1.90564899 0.         0.92979429]\n",
      " [6.07141914 2.05638096 0.         0.95928703]\n",
      " [6.12357206 1.91457921 0.         0.89067565]\n",
      " [6.05441398 2.08003767 0.         1.00400275]\n",
      " [5.98903349 1.9746981  0.         0.99078162]\n",
      " [6.176506   2.06598959 0.         0.91620329]]\n",
      "[0.08444752 0.08444752 0.         0.04222376] [[5.74971835 1.64266024 0.         0.66499053]\n",
      " [5.73777617 1.5503593  0.         0.66589567]\n",
      " [5.6986758  1.57905648 0.         0.67530441]\n",
      " [5.78679222 1.56597999 0.         0.67732719]\n",
      " [5.80330915 1.54708301 0.         0.61949035]\n",
      " [5.50958609 1.48421381 0.         0.66882089]\n",
      " [5.69466828 1.54922795 0.         0.65688078]\n",
      " [5.90320088 1.67935942 0.         0.59923855]]\n"
     ]
    }
   ],
   "source": [
    "pop2 = test.get_population(2, True)"
   ]
  },
  {
   "cell_type": "code",
   "execution_count": 32,
   "metadata": {
    "ExecuteTime": {
     "end_time": "2021-07-22T05:38:19.790746Z",
     "start_time": "2021-07-22T05:38:19.783111Z"
    }
   },
   "outputs": [
    {
     "data": {
      "text/plain": [
       "(4, 3000, 4)"
      ]
     },
     "execution_count": 32,
     "metadata": {},
     "output_type": "execute_result"
    }
   ],
   "source": [
    "np.vstack([pop, pop2]).shape"
   ]
  },
  {
   "cell_type": "code",
   "execution_count": 13,
   "metadata": {
    "ExecuteTime": {
     "end_time": "2021-07-21T22:31:15.167800Z",
     "start_time": "2021-07-21T22:31:15.039128Z"
    }
   },
   "outputs": [
    {
     "data": {
      "text/plain": [
       "-76.63955081476718"
      ]
     },
     "execution_count": 13,
     "metadata": {},
     "output_type": "execute_result"
    }
   ],
   "source": [
    "test.samples = True\n",
    "test.pop_like(pop, [1.4, 0.5, 2, 5, 4])"
   ]
  },
  {
   "cell_type": "code",
   "execution_count": 3,
   "metadata": {
    "ExecuteTime": {
     "end_time": "2021-07-21T22:27:49.401080Z",
     "start_time": "2021-07-21T22:27:44.125785Z"
    }
   },
   "outputs": [],
   "source": [
    "pop = np.genfromtxt('./results/full_pop_samples.txt')"
   ]
  },
  {
   "cell_type": "code",
   "execution_count": 4,
   "metadata": {
    "ExecuteTime": {
     "end_time": "2021-07-21T22:27:49.998276Z",
     "start_time": "2021-07-21T22:27:49.817415Z"
    }
   },
   "outputs": [],
   "source": [
    "pop = pop.reshape((50,3000,4))"
   ]
  },
  {
   "cell_type": "code",
   "execution_count": 464,
   "metadata": {
    "ExecuteTime": {
     "end_time": "2021-07-21T22:19:57.337178Z",
     "start_time": "2021-07-21T22:19:57.328673Z"
    }
   },
   "outputs": [],
   "source": [
    "test.samples = True"
   ]
  },
  {
   "cell_type": "code",
   "execution_count": 25,
   "metadata": {
    "ExecuteTime": {
     "end_time": "2021-07-22T05:09:35.083248Z",
     "start_time": "2021-07-22T05:09:35.078118Z"
    },
    "scrolled": true
   },
   "outputs": [],
   "source": [
    "pop = pop[0]"
   ]
  },
  {
   "cell_type": "code",
   "execution_count": 28,
   "metadata": {
    "ExecuteTime": {
     "end_time": "2021-07-22T05:09:48.902272Z",
     "start_time": "2021-07-22T05:09:48.575800Z"
    },
    "scrolled": true
   },
   "outputs": [
    {
     "name": "stderr",
     "output_type": "stream",
     "text": [
      "/mnt/c/users/christine/gwcosmology/spin!!/populations.py:1131: RuntimeWarning: divide by zero encountered in log\n",
      "  \n"
     ]
    },
    {
     "data": {
      "text/plain": [
       "<matplotlib.lines.Line2D at 0x7f937abef990>"
      ]
     },
     "execution_count": 28,
     "metadata": {},
     "output_type": "execute_result"
    },
    {
     "data": {
      "image/png": "[encoded data removed]",
      "text/plain": [
       "<Figure size 432x288 with 1 Axes>"
      ]
     },
     "metadata": {
      "needs_background": "light"
     },
     "output_type": "display_data"
    }
   ],
   "source": [
    "test.set_injection_spins(p.injection_set)\n",
    "result = np.zeros(50)\n",
    "slopes = np.linspace(4.5, 5.5)\n",
    "#slopes = np.linspace(0.1, 1)\n",
    "for i in range(50):\n",
    "    result[i] = test.pop_like(pop, [1.4,  0.5,  2,slopes[i], 4])\n",
    "plt.plot(slopes, np.exp(result-np.max(result)))\n",
    "plt.axvline(5)"
   ]
  },
  {
   "cell_type": "code",
   "execution_count": 125,
   "metadata": {
    "ExecuteTime": {
     "end_time": "2021-07-21T16:30:42.081065Z",
     "start_time": "2021-07-21T16:30:41.989054Z"
    }
   },
   "outputs": [
    {
     "data": {
      "text/plain": [
       "-220.07700457719875"
      ]
     },
     "execution_count": 125,
     "metadata": {},
     "output_type": "execute_result"
    }
   ],
   "source": [
    "test.pop_like(pop, [1.4, 0.5, 2, 1, 3, 5, 4])"
   ]
  },
  {
   "cell_type": "code",
   "execution_count": 413,
   "metadata": {
    "ExecuteTime": {
     "end_time": "2021-07-21T21:11:25.951482Z",
     "start_time": "2021-07-21T21:11:25.942698Z"
    }
   },
   "outputs": [
    {
     "name": "stdout",
     "output_type": "stream",
     "text": [
      "vary slope: False\n",
      "selection: True\n",
      "spinning: True\n",
      "no m1 spin: True\n"
     ]
    }
   ],
   "source": [
    "test = p.Population([1.4, 0.5, 2, 1, 3, 5, 4], 'nsbh_one', False, selection=True, m1_nospin = True, spinning=True, spin_params=[1, 0])"
   ]
  },
  {
   "cell_type": "code",
   "execution_count": 321,
   "metadata": {
    "ExecuteTime": {
     "end_time": "2021-07-21T17:03:47.064638Z",
     "start_time": "2021-07-21T17:03:47.055223Z"
    }
   },
   "outputs": [
    {
     "name": "stdout",
     "output_type": "stream",
     "text": [
      "vary slope: False\n",
      "selection: False\n",
      "spinning: False\n",
      "no m1 spin: True\n"
     ]
    }
   ],
   "source": [
    "test = p.Population([1.4, 0.5, 2, 0, 3], 'one', False, selection=False, m1_nospin = True, spinning=False)"
   ]
  },
  {
   "cell_type": "code",
   "execution_count": 310,
   "metadata": {
    "ExecuteTime": {
     "end_time": "2021-07-21T17:01:46.500513Z",
     "start_time": "2021-07-21T17:01:44.744627Z"
    }
   },
   "outputs": [
    {
     "name": "stdout",
     "output_type": "stream",
     "text": [
      "1.0\n"
     ]
    }
   ],
   "source": [
    "pop = test.get_population(10000, False)"
   ]
  },
  {
   "cell_type": "code",
   "execution_count": 369,
   "metadata": {
    "ExecuteTime": {
     "end_time": "2021-07-21T18:28:59.728357Z",
     "start_time": "2021-07-21T18:28:59.721165Z"
    }
   },
   "outputs": [],
   "source": [
    "data = p.generate_truncnormal(10000,1.4, 0.5, 1, 2)"
   ]
  },
  {
   "cell_type": "code",
   "execution_count": 311,
   "metadata": {
    "ExecuteTime": {
     "end_time": "2021-07-21T17:01:48.326841Z",
     "start_time": "2021-07-21T17:01:48.321917Z"
    }
   },
   "outputs": [],
   "source": [
    "data = pop[:,:,0].squeeze()"
   ]
  },
  {
   "cell_type": "code",
   "execution_count": 380,
   "metadata": {
    "ExecuteTime": {
     "end_time": "2021-07-21T18:29:21.094693Z",
     "start_time": "2021-07-21T18:29:20.626506Z"
    }
   },
   "outputs": [
    {
     "name": "stdout",
     "output_type": "stream",
     "text": [
      "1.0\n"
     ]
    }
   ],
   "source": [
    "pop = test.get_population(1000, False)\n",
    "data = pop[:,:,0].squeeze()\n",
    "data2 = pop[:,:,1].squeeze()\n",
    "mus = np.linspace(1.2, 1.6)\n",
    "sigmas = np.linspace(0.2, 0.7)\n",
    "results = np.zeros((50,50))\n",
    "for i in range(50):\n",
    "    for j in range(50):\n",
    "        results[i,j]=np.sum(np.log(p.truncnormal_like(data, mus[i], sigmas[j], 1, 2) * p.like_m2(data2, data, 1, 3))) #pop[:,:,0].squeeze()"
   ]
  },
  {
   "cell_type": "code",
   "execution_count": 381,
   "metadata": {
    "ExecuteTime": {
     "end_time": "2021-07-21T18:29:21.426934Z",
     "start_time": "2021-07-21T18:29:21.130019Z"
    }
   },
   "outputs": [
    {
     "name": "stdout",
     "output_type": "stream",
     "text": [
      "[  1.           1.99784023   2.98903023 ... 135.1032793  135.1032793\n",
      " 135.1032793 ]\n",
      "[0.68 0.95]\n"
     ]
    },
    {
     "data": {
      "text/plain": [
       "<matplotlib.collections.PathCollection at 0x7f272ee1b050>"
      ]
     },
     "execution_count": 381,
     "metadata": {},
     "output_type": "execute_result"
    },
    {
     "data": {
      "image/png": "[encoded data removed]",
      "text/plain": [
       "<Figure size 432x288 with 1 Axes>"
      ]
     },
     "metadata": {
      "needs_background": "light"
     },
     "output_type": "display_data"
    }
   ],
   "source": [
    "plt.contourf(np.exp(results-np.max(results)), extent=[np.min(mus), np.max(mus), np.min(sigmas), np.max(sigmas)], levels=credible_levels(np.exp(results-np.max(results)).flatten(), np.array([0.68, 0.95])))\n",
    "plt.scatter(1.4, 0.5, c='r')"
   ]
  },
  {
   "cell_type": "code",
   "execution_count": null,
   "metadata": {
    "ExecuteTime": {
     "end_time": "2021-07-21T18:23:56.876254Z",
     "start_time": "2021-07-21T18:20:54.086720Z"
    },
    "scrolled": true
   },
   "outputs": [],
   "source": [
    "pop = test.get_population(1000, False)\n",
    "data = pop[:,:,0].squeeze()\n",
    "data2 = pop[:,:,1].squeeze()\n",
    "mus = np.linspace(1.2, 1.6)\n",
    "sigmas = np.linspace(0.2, 0.7)\n",
    "results = np.zeros((50,50))\n",
    "for i in range(50):\n",
    "    print(i)\n",
    "    for j in range(50):\n",
    "        results[i,j]=test.pop_like(pop, params=[mus[i], sigmas[j], 2]) #pop[:,:,0].squeeze()"
   ]
  },
  {
   "cell_type": "code",
   "execution_count": 368,
   "metadata": {
    "ExecuteTime": {
     "end_time": "2021-07-21T18:28:48.100272Z",
     "start_time": "2021-07-21T18:28:47.687480Z"
    },
    "scrolled": true
   },
   "outputs": [
    {
     "name": "stdout",
     "output_type": "stream",
     "text": [
      "[  1.           1.98104363   2.95841679 ... 145.38011032 145.38011032\n",
      " 145.38011032]\n",
      "[0.68 0.95]\n"
     ]
    },
    {
     "data": {
      "text/plain": [
       "<matplotlib.collections.PathCollection at 0x7f272f8aaf10>"
      ]
     },
     "execution_count": 368,
     "metadata": {},
     "output_type": "execute_result"
    },
    {
     "data": {
      "image/png": "[encoded data removed]",
      "text/plain": [
       "<Figure size 432x288 with 1 Axes>"
      ]
     },
     "metadata": {
      "needs_background": "light"
     },
     "output_type": "display_data"
    }
   ],
   "source": [
    "plt.contourf(np.exp(results-np.max(results)), extent=[np.min(mus), np.max(mus), np.min(sigmas), np.max(sigmas)], levels=credible_levels(np.exp(results-np.max(results)).flatten(), np.array([0.68, 0.95])))\n",
    "plt.scatter(1.4, 0.5, c='r')"
   ]
  },
  {
   "cell_type": "code",
   "execution_count": 241,
   "metadata": {
    "ExecuteTime": {
     "end_time": "2021-07-21T16:50:57.083019Z",
     "start_time": "2021-07-21T16:50:57.062241Z"
    }
   },
   "outputs": [],
   "source": [
    "def credible_levels(ps, fs):\n",
    "    \"\"\"Find the probability levels that correspond to a given array of credible levels, e.g. to then pass into the levels argument of a contour plot\n",
    "    Parameters:\n",
    "       ps (1-d numpy array):\n",
    "          the PDF values, a flattened array\n",
    "       fs (1-d numpy array):\n",
    "          the desired credible levels in ascending order, e.g. array([0.5,0.9]) for 50% and 90% credible levels\n",
    "    \"\"\"\n",
    "    sorter = np.argsort(ps)\n",
    "    ps_sorted = ps[sorter]\n",
    "    ps_sorted = ps_sorted[::-1] #largest to smallest\n",
    "    csum = np.cumsum(ps_sorted)\n",
    "    print(csum)\n",
    "    print(fs) \n",
    "    idxs = np.searchsorted(csum,fs*csum[-1])\n",
    "    levels = ps_sorted[idxs]\n",
    "    levels = levels[::-1]\n",
    "    return levels"
   ]
  },
  {
   "cell_type": "code",
   "execution_count": 73,
   "metadata": {
    "ExecuteTime": {
     "end_time": "2021-07-21T06:57:42.888503Z",
     "start_time": "2021-07-21T06:55:46.076406Z"
    }
   },
   "outputs": [
    {
     "name": "stderr",
     "output_type": "stream",
     "text": [
      " 40%|████      | 401/1000 [00:44<01:12,  8.27it/s]/mnt/c/users/christine/gwcosmology/spin!!/populations.py:1020: RuntimeWarning: divide by zero encountered in log\n",
      "  result = np.sum([np.log(self.event_likelihood_one_single(i, params)/mu) for i in samples])\n",
      "100%|██████████| 1000/1000 [01:56<00:00,  8.57it/s]\n"
     ]
    }
   ],
   "source": [
    "a, b = test.infer(pop, fixed={\"m_TOV\":2, \"bh_min\": 5, \"bh_slope\": 4, \"max_jjkep\": 1, \"spin_slope\": 1}, steps=1000)"
   ]
  },
  {
   "cell_type": "code",
   "execution_count": 74,
   "metadata": {
    "ExecuteTime": {
     "end_time": "2021-07-21T06:57:49.847124Z",
     "start_time": "2021-07-21T06:57:49.063895Z"
    }
   },
   "outputs": [
    {
     "data": {
      "image/png": "[encoded data removed]",
      "text/plain": [
       "<Figure size 396x396 with 4 Axes>"
      ]
     },
     "metadata": {
      "needs_background": "light"
     },
     "output_type": "display_data"
    }
   ],
   "source": [
    "corner.corner(a[:,[0,1]]);"
   ]
  },
  {
   "cell_type": "code",
   "execution_count": 64,
   "metadata": {
    "ExecuteTime": {
     "end_time": "2021-07-21T06:46:14.327745Z",
     "start_time": "2021-07-21T06:44:35.667471Z"
    }
   },
   "outputs": [],
   "source": [
    "mus = np.linspace(1, 2)\n",
    "sigmas = np.linspace(0.1, 1.0)\n",
    "results = np.zeros((50,50))\n",
    "for i in range(50):\n",
    "    for j in range(50):\n",
    "        results[i,j]=test.pop_like(pop, [mus[i], sigmas[j], 2, 5, 4, 1, 1])"
   ]
  },
  {
   "cell_type": "code",
   "execution_count": 75,
   "metadata": {
    "ExecuteTime": {
     "end_time": "2021-07-21T06:58:52.367349Z",
     "start_time": "2021-07-21T06:58:16.309884Z"
    }
   },
   "outputs": [],
   "source": [
    "mus = np.linspace(1, 2)\n",
    "sigmas = np.linspace(0.1, 1.0)\n",
    "results = np.zeros((50,50))\n",
    "for i in range(50):\n",
    "    for j in range(50):\n",
    "        results[i,j]=test.pop_like(pop, [mus[i], sigmas[j], 2, 5, 4, 1, 1])"
   ]
  },
  {
   "cell_type": "code",
   "execution_count": null,
   "metadata": {},
   "outputs": [],
   "source": []
  }
 ],
 "metadata": {
  "kernelspec": {
   "display_name": "Python 3",
   "language": "python",
   "name": "python3"
  },
  "language_info": {
   "codemirror_mode": {
    "name": "ipython",
    "version": 3
   },
   "file_extension": ".py",
   "mimetype": "text/x-python",
   "name": "python",
   "nbconvert_exporter": "python",
   "pygments_lexer": "ipython3",
   "version": "3.7.7"
  },
  "latex_envs": {
   "LaTeX_envs_menu_present": true,
   "autoclose": false,
   "autocomplete": true,
   "bibliofile": "biblio.bib",
   "cite_by": "apalike",
   "current_citInitial": 1,
   "eqLabelWithNumbers": true,
   "eqNumInitial": 1,
   "hotkeys": {
    "equation": "Ctrl-E",
    "itemize": "Ctrl-I"
   },
   "labels_anchors": false,
   "latex_user_defs": false,
   "report_style_numbering": false,
   "user_envs_cfg": false
  },
  "toc": {
   "base_numbering": 1,
   "nav_menu": {},
   "number_sections": true,
   "sideBar": true,
   "skip_h1_title": false,
   "title_cell": "Table of Contents",
   "title_sidebar": "Contents",
   "toc_cell": false,
   "toc_position": {},
   "toc_section_display": true,
   "toc_window_display": false
  },
  "varInspector": {
   "cols": {
    "lenName": 16,
    "lenType": 16,
    "lenVar": 40
   },
   "kernels_config": {
    "python": {
     "delete_cmd_postfix": "",
     "delete_cmd_prefix": "del ",
     "library": "var_list.py",
     "varRefreshCmd": "print(var_dic_list())"
    },
    "r": {
     "delete_cmd_postfix": ") ",
     "delete_cmd_prefix": "rm(",
     "library": "var_list.r",
     "varRefreshCmd": "cat(var_dic_list()) "
    }
   },
   "types_to_exclude": [
    "module",
    "function",
    "builtin_function_or_method",
    "instance",
    "_Feature"
   ],
   "window_display": false
  }
 },
 "nbformat": 4,
 "nbformat_minor": 4
}
